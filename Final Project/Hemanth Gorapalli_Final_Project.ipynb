{
 "cells": [
  {
   "cell_type": "markdown",
   "metadata": {},
   "source": [
    "# Spring 2024 Final Project"
   ]
  },
  {
   "cell_type": "markdown",
   "metadata": {},
   "source": [
    "# Team Members:\n",
    "\n",
    "## PN45610 - SAI CHAITANYA VARMA INDUKURI\n",
    "\n",
    "## PC60253 - HEMANTH GORAPALLI"
   ]
  },
  {
   "cell_type": "markdown",
   "metadata": {},
   "source": [
    "# Introduction:\n",
    "\n",
    "Actually the aim of the project is to findout themodel which it doesnt have any target value and we dont know what feature has to be enabled to do the testing and we know the question and we dont know the answer and we are gonna figure it out with these methods."
   ]
  },
  {
   "cell_type": "code",
   "execution_count": 1,
   "metadata": {
    "id": "U5oJFL3MTk32"
   },
   "outputs": [],
   "source": [
    "import pandas as pd\n",
    "\n",
    "class SME():\n",
    "\n",
    "    def __init__(self):\n",
    "        self.asked = 0\n",
    "        self.df = self.get()\n",
    "\n",
    "    def get(self):\n",
    "        X_train = pd.read_csv('https://raw.githubusercontent.com/msaricaumbc/DS_data/master/ds602/final3/X_train.csv')\n",
    "        y_train = pd.read_csv('https://raw.githubusercontent.com/msaricaumbc/DS_data/master/ds602/final3/y_train.csv')\n",
    "\n",
    "        X_train['Left'] = y_train\n",
    "        return X_train\n",
    "\n",
    "    def ask(self, gender, distance, years_worked, hire_date, prev_salary, current_salary, dep_code):\n",
    "        self.asked += 1\n",
    "        #  print(self.asked)\n",
    "\n",
    "        if self.asked > 500:\n",
    "            raise Exception(\"Sorry, you have asked enough\")\n",
    "\n",
    "        result = self.df.query(f\"Gender=={gender} and Distance=='{distance}' and YearsWorked == {years_worked} and HireDate == '{hire_date}' and PreviousSalary == '{prev_salary}' and Salary == '{current_salary}' and DepartmentCode == {dep_code}\")\n"
   ]
  },
  {
   "cell_type": "markdown",
   "metadata": {},
   "source": [
    "Here first we are going to find the y_train without using the supervised learning and we are trying to implement unsupervised machine learning model with that wea re going to find y_train to tackle the realtime world. "
   ]
  },
  {
   "cell_type": "code",
   "execution_count": 2,
   "metadata": {
    "id": "eF1817tZLhA9"
   },
   "outputs": [],
   "source": [
    "sme = SME()"
   ]
  },
  {
   "cell_type": "code",
   "execution_count": 3,
   "metadata": {
    "id": "6A3KgYQkLhEm"
   },
   "outputs": [],
   "source": [
    "# e.g.\n",
    "sme.ask(0, '~20miles', 8, '2007-09-05',  '63K', '66K', 3)"
   ]
  },
  {
   "cell_type": "code",
   "execution_count": 4,
   "metadata": {
    "id": "9e5cjdMILw-S"
   },
   "outputs": [],
   "source": [
    "sme = sme.get()"
   ]
  },
  {
   "cell_type": "code",
   "execution_count": 5,
   "metadata": {
    "id": "590c0858"
   },
   "outputs": [],
   "source": [
    "X_train = pd.read_csv('https://raw.githubusercontent.com/msaricaumbc/DS_data/master/ds602/final3/X_train.csv')\n",
    "X_test = pd.read_csv('https://raw.githubusercontent.com/msaricaumbc/DS_data/master/ds602/final3/X_test.csv')\n",
    "y_test = pd.read_csv('https://raw.githubusercontent.com/msaricaumbc/DS_data/master/ds602/final3/y_test.csv')"
   ]
  },
  {
   "cell_type": "code",
   "execution_count": 6,
   "metadata": {
    "colab": {
     "base_uri": "https://localhost:8080/",
     "height": 206
    },
    "id": "gl9k9C66giks",
    "outputId": "f67f778b-a3e7-41bb-b2e2-8751bc26984d"
   },
   "outputs": [
    {
     "data": {
      "text/html": [
       "<div>\n",
       "<style scoped>\n",
       "    .dataframe tbody tr th:only-of-type {\n",
       "        vertical-align: middle;\n",
       "    }\n",
       "\n",
       "    .dataframe tbody tr th {\n",
       "        vertical-align: top;\n",
       "    }\n",
       "\n",
       "    .dataframe thead th {\n",
       "        text-align: right;\n",
       "    }\n",
       "</style>\n",
       "<table border=\"1\" class=\"dataframe\">\n",
       "  <thead>\n",
       "    <tr style=\"text-align: right;\">\n",
       "      <th></th>\n",
       "      <th>Gender</th>\n",
       "      <th>Distance</th>\n",
       "      <th>YearsWorked</th>\n",
       "      <th>HireDate</th>\n",
       "      <th>PreviousSalary</th>\n",
       "      <th>Salary</th>\n",
       "      <th>DepartmentCode</th>\n",
       "    </tr>\n",
       "  </thead>\n",
       "  <tbody>\n",
       "    <tr>\n",
       "      <th>0</th>\n",
       "      <td>0</td>\n",
       "      <td>~20miles</td>\n",
       "      <td>8</td>\n",
       "      <td>2007-09-05</td>\n",
       "      <td>63K</td>\n",
       "      <td>66K</td>\n",
       "      <td>3</td>\n",
       "    </tr>\n",
       "    <tr>\n",
       "      <th>1</th>\n",
       "      <td>0</td>\n",
       "      <td>&gt;30miles</td>\n",
       "      <td>7</td>\n",
       "      <td>2011-10-16</td>\n",
       "      <td>60K</td>\n",
       "      <td>63K</td>\n",
       "      <td>3</td>\n",
       "    </tr>\n",
       "    <tr>\n",
       "      <th>2</th>\n",
       "      <td>0</td>\n",
       "      <td>~15miles</td>\n",
       "      <td>7</td>\n",
       "      <td>2011-05-18</td>\n",
       "      <td>59K</td>\n",
       "      <td>60K</td>\n",
       "      <td>3</td>\n",
       "    </tr>\n",
       "    <tr>\n",
       "      <th>3</th>\n",
       "      <td>1</td>\n",
       "      <td>&lt;5mile</td>\n",
       "      <td>3</td>\n",
       "      <td>2000-06-30</td>\n",
       "      <td>60K</td>\n",
       "      <td>61K</td>\n",
       "      <td>2</td>\n",
       "    </tr>\n",
       "    <tr>\n",
       "      <th>4</th>\n",
       "      <td>1</td>\n",
       "      <td>~10miles</td>\n",
       "      <td>9</td>\n",
       "      <td>2010-04-28</td>\n",
       "      <td>56K</td>\n",
       "      <td>57K</td>\n",
       "      <td>7</td>\n",
       "    </tr>\n",
       "  </tbody>\n",
       "</table>\n",
       "</div>"
      ],
      "text/plain": [
       "   Gender  Distance  YearsWorked    HireDate PreviousSalary Salary  \\\n",
       "0       0  ~20miles            8  2007-09-05            63K    66K   \n",
       "1       0  >30miles            7  2011-10-16            60K    63K   \n",
       "2       0  ~15miles            7  2011-05-18            59K    60K   \n",
       "3       1    <5mile            3  2000-06-30            60K    61K   \n",
       "4       1  ~10miles            9  2010-04-28            56K    57K   \n",
       "\n",
       "   DepartmentCode  \n",
       "0               3  \n",
       "1               3  \n",
       "2               3  \n",
       "3               2  \n",
       "4               7  "
      ]
     },
     "execution_count": 6,
     "metadata": {},
     "output_type": "execute_result"
    }
   ],
   "source": [
    "X_train.head()"
   ]
  },
  {
   "cell_type": "markdown",
   "metadata": {
    "id": "dp3H5SAy8SaO"
   },
   "source": [
    "In this data I have observed that Distance, PreviousSalary and Salary were\n",
    "not numerical and we are performing data cleaning"
   ]
  },
  {
   "cell_type": "markdown",
   "metadata": {
    "id": "GFGwXmqZ6qOL"
   },
   "source": [
    "# Data Cleaning"
   ]
  },
  {
   "cell_type": "code",
   "execution_count": 7,
   "metadata": {
    "colab": {
     "base_uri": "https://localhost:8080/"
    },
    "id": "jr_a1XhSgkB9",
    "outputId": "fb09edcb-4067-4e9a-82ad-103ff8d9249c"
   },
   "outputs": [
    {
     "data": {
      "text/plain": [
       "(7500, 7)"
      ]
     },
     "execution_count": 7,
     "metadata": {},
     "output_type": "execute_result"
    }
   ],
   "source": [
    "X_train.shape"
   ]
  },
  {
   "cell_type": "code",
   "execution_count": 8,
   "metadata": {
    "colab": {
     "base_uri": "https://localhost:8080/"
    },
    "id": "Z5Ubu7rzgnH9",
    "outputId": "57652e21-6195-4066-fa52-f675d70846fb"
   },
   "outputs": [
    {
     "name": "stdout",
     "output_type": "stream",
     "text": [
      "<class 'pandas.core.frame.DataFrame'>\n",
      "RangeIndex: 7500 entries, 0 to 7499\n",
      "Data columns (total 7 columns):\n",
      " #   Column          Non-Null Count  Dtype \n",
      "---  ------          --------------  ----- \n",
      " 0   Gender          7500 non-null   int64 \n",
      " 1   Distance        7490 non-null   object\n",
      " 2   YearsWorked     7500 non-null   int64 \n",
      " 3   HireDate        7500 non-null   object\n",
      " 4   PreviousSalary  7500 non-null   object\n",
      " 5   Salary          7500 non-null   object\n",
      " 6   DepartmentCode  7500 non-null   int64 \n",
      "dtypes: int64(3), object(4)\n",
      "memory usage: 410.3+ KB\n"
     ]
    }
   ],
   "source": [
    "X_train.info()"
   ]
  },
  {
   "cell_type": "code",
   "execution_count": 9,
   "metadata": {
    "colab": {
     "base_uri": "https://localhost:8080/"
    },
    "id": "9GvqubVZyaf9",
    "outputId": "5ed4734b-cff1-4ee2-9a4f-315a92a8cc4b"
   },
   "outputs": [
    {
     "data": {
      "text/plain": [
       "Gender             0\n",
       "Distance          10\n",
       "YearsWorked        0\n",
       "HireDate           0\n",
       "PreviousSalary     0\n",
       "Salary             0\n",
       "DepartmentCode     0\n",
       "dtype: int64"
      ]
     },
     "execution_count": 9,
     "metadata": {},
     "output_type": "execute_result"
    }
   ],
   "source": [
    "X_train.isnull().sum()"
   ]
  },
  {
   "cell_type": "markdown",
   "metadata": {
    "id": "qtcpH_TE9Fm2"
   },
   "source": [
    "Here in the distance column we have 10 rows of null data and I would not like to remove the data of the 10 rows and I want to keep the data"
   ]
  },
  {
   "cell_type": "markdown",
   "metadata": {
    "id": "v96e2NW2y4PC"
   },
   "source": [
    "* We need to fill the na values"
   ]
  },
  {
   "cell_type": "markdown",
   "metadata": {
    "id": "epd0bhB37eSw"
   },
   "source": [
    "* lets Fill the NA values witht he median data and then change the columns from object to integer."
   ]
  },
  {
   "cell_type": "code",
   "execution_count": 10,
   "metadata": {
    "colab": {
     "base_uri": "https://localhost:8080/"
    },
    "id": "sjdI3dV6gp4y",
    "outputId": "325cd8d2-fa1f-4e2c-c458-234e9a70b9fe"
   },
   "outputs": [
    {
     "name": "stdout",
     "output_type": "stream",
     "text": [
      "0    20\n",
      "1    30\n",
      "2    15\n",
      "3     5\n",
      "4    10\n",
      "Name: Distance, dtype: int32\n",
      "0     5\n",
      "1    15\n",
      "2    20\n",
      "3    30\n",
      "4    10\n",
      "Name: Distance, dtype: int32\n"
     ]
    }
   ],
   "source": [
    "# Fill missing values with median before converting to integer\n",
    "median_distance_train = X_train['Distance'].str.extract('(\\d+)').astype(float).median()\n",
    "median_distance_test = X_test['Distance'].str.extract('(\\d+)').astype(float).median()\n",
    "\n",
    "X_train['Distance'] = X_train['Distance'].str.extract('(\\d+)').fillna(median_distance_train).astype(int)\n",
    "X_test['Distance'] = X_test['Distance'].str.extract('(\\d+)').fillna(median_distance_test).astype(int)\n",
    "\n",
    "# Display the modified DataFrame\n",
    "print(X_train['Distance'].head())\n",
    "print(X_test['Distance'].head())"
   ]
  },
  {
   "cell_type": "code",
   "execution_count": 11,
   "metadata": {
    "colab": {
     "base_uri": "https://localhost:8080/"
    },
    "id": "yLZ5dIP6vkNN",
    "outputId": "2d535bbe-b73e-4ec1-956a-dd6c17281c70"
   },
   "outputs": [
    {
     "name": "stdout",
     "output_type": "stream",
     "text": [
      "0   2007-09-05\n",
      "1   2011-10-16\n",
      "2   2011-05-18\n",
      "3   2000-06-30\n",
      "4   2010-04-28\n",
      "Name: HireDate, dtype: datetime64[ns]\n",
      "0   2011-07-19\n",
      "1   2004-03-23\n",
      "2   2000-09-19\n",
      "3   2008-11-05\n",
      "4   1999-01-16\n",
      "Name: HireDate, dtype: datetime64[ns]\n"
     ]
    }
   ],
   "source": [
    "# Convert \"HireDate\" column to datetime format\n",
    "X_train['HireDate'] = pd.to_datetime(X_train['HireDate'], format='%Y-%m-%d')\n",
    "X_test['HireDate'] = pd.to_datetime(X_test['HireDate'], format='%Y-%m-%d')\n",
    "\n",
    "# Display the modified DataFrame\n",
    "print(X_train['HireDate'].head())\n",
    "print(X_test['HireDate'].head())\n"
   ]
  },
  {
   "cell_type": "code",
   "execution_count": 12,
   "metadata": {
    "colab": {
     "base_uri": "https://localhost:8080/"
    },
    "id": "WhtwgG_CxDNZ",
    "outputId": "1fe0d64c-0fe2-4333-ff5f-5781babfc9cc"
   },
   "outputs": [
    {
     "name": "stdout",
     "output_type": "stream",
     "text": [
      "   PreviousSalary  Salary\n",
      "0           63000   66000\n",
      "1           60000   63000\n",
      "2           59000   60000\n",
      "3           60000   61000\n",
      "4           56000   57000\n",
      "   PreviousSalary  Salary\n",
      "0           59000   61000\n",
      "1           58000   60000\n",
      "2           58000   60000\n",
      "3           59000   61000\n",
      "4           58000   59000\n"
     ]
    }
   ],
   "source": [
    "# Convert \"PreviousSalary\" and \"Salary\" columns to integer format\n",
    "X_train['PreviousSalary'] = X_train['PreviousSalary'].str.replace('K', '').astype(int) * 1000\n",
    "X_train['Salary'] = X_train['Salary'].str.replace('K', '').astype(int) * 1000\n",
    "\n",
    "X_test['PreviousSalary'] = X_test['PreviousSalary'].str.replace('K', '').astype(int) * 1000\n",
    "X_test['Salary'] = X_test['Salary'].str.replace('K', '').astype(int) * 1000\n",
    "\n",
    "# Display the modified DataFrame\n",
    "print(X_train[['PreviousSalary', 'Salary']].head())\n",
    "print(X_test[['PreviousSalary', 'Salary']].head())\n"
   ]
  },
  {
   "cell_type": "code",
   "execution_count": 13,
   "metadata": {
    "colab": {
     "base_uri": "https://localhost:8080/"
    },
    "id": "EppaSZ3IxRj6",
    "outputId": "0a0e912e-b85b-424e-bd69-1657b4740474"
   },
   "outputs": [
    {
     "name": "stdout",
     "output_type": "stream",
     "text": [
      "<class 'pandas.core.frame.DataFrame'>\n",
      "RangeIndex: 7500 entries, 0 to 7499\n",
      "Data columns (total 7 columns):\n",
      " #   Column          Non-Null Count  Dtype         \n",
      "---  ------          --------------  -----         \n",
      " 0   Gender          7500 non-null   int64         \n",
      " 1   Distance        7500 non-null   int32         \n",
      " 2   YearsWorked     7500 non-null   int64         \n",
      " 3   HireDate        7500 non-null   datetime64[ns]\n",
      " 4   PreviousSalary  7500 non-null   int32         \n",
      " 5   Salary          7500 non-null   int32         \n",
      " 6   DepartmentCode  7500 non-null   int64         \n",
      "dtypes: datetime64[ns](1), int32(3), int64(3)\n",
      "memory usage: 322.4 KB\n"
     ]
    }
   ],
   "source": [
    "X_train.info()"
   ]
  },
  {
   "cell_type": "code",
   "execution_count": 14,
   "metadata": {
    "colab": {
     "base_uri": "https://localhost:8080/",
     "height": 300
    },
    "id": "HdmGtdUl-e-Q",
    "outputId": "3e56e8b4-9f85-49d5-d1ad-aa03357c63ac"
   },
   "outputs": [
    {
     "data": {
      "text/html": [
       "<div>\n",
       "<style scoped>\n",
       "    .dataframe tbody tr th:only-of-type {\n",
       "        vertical-align: middle;\n",
       "    }\n",
       "\n",
       "    .dataframe tbody tr th {\n",
       "        vertical-align: top;\n",
       "    }\n",
       "\n",
       "    .dataframe thead th {\n",
       "        text-align: right;\n",
       "    }\n",
       "</style>\n",
       "<table border=\"1\" class=\"dataframe\">\n",
       "  <thead>\n",
       "    <tr style=\"text-align: right;\">\n",
       "      <th></th>\n",
       "      <th>Gender</th>\n",
       "      <th>Distance</th>\n",
       "      <th>YearsWorked</th>\n",
       "      <th>HireDate</th>\n",
       "      <th>PreviousSalary</th>\n",
       "      <th>Salary</th>\n",
       "      <th>DepartmentCode</th>\n",
       "    </tr>\n",
       "  </thead>\n",
       "  <tbody>\n",
       "    <tr>\n",
       "      <th>count</th>\n",
       "      <td>7500.000000</td>\n",
       "      <td>7500.000000</td>\n",
       "      <td>7500.000000</td>\n",
       "      <td>7500</td>\n",
       "      <td>7500.000000</td>\n",
       "      <td>7500.000000</td>\n",
       "      <td>7500.00000</td>\n",
       "    </tr>\n",
       "    <tr>\n",
       "      <th>mean</th>\n",
       "      <td>0.404133</td>\n",
       "      <td>15.074000</td>\n",
       "      <td>7.013067</td>\n",
       "      <td>2007-07-28 13:20:38.400000</td>\n",
       "      <td>59517.066667</td>\n",
       "      <td>61330.933333</td>\n",
       "      <td>3.99360</td>\n",
       "    </tr>\n",
       "    <tr>\n",
       "      <th>min</th>\n",
       "      <td>0.000000</td>\n",
       "      <td>5.000000</td>\n",
       "      <td>1.000000</td>\n",
       "      <td>1999-01-01 00:00:00</td>\n",
       "      <td>48000.000000</td>\n",
       "      <td>48000.000000</td>\n",
       "      <td>1.00000</td>\n",
       "    </tr>\n",
       "    <tr>\n",
       "      <th>25%</th>\n",
       "      <td>0.000000</td>\n",
       "      <td>10.000000</td>\n",
       "      <td>6.000000</td>\n",
       "      <td>2003-04-03 00:00:00</td>\n",
       "      <td>58000.000000</td>\n",
       "      <td>59000.000000</td>\n",
       "      <td>2.00000</td>\n",
       "    </tr>\n",
       "    <tr>\n",
       "      <th>50%</th>\n",
       "      <td>0.000000</td>\n",
       "      <td>15.000000</td>\n",
       "      <td>7.000000</td>\n",
       "      <td>2007-07-07 00:00:00</td>\n",
       "      <td>60000.000000</td>\n",
       "      <td>61000.000000</td>\n",
       "      <td>3.00000</td>\n",
       "    </tr>\n",
       "    <tr>\n",
       "      <th>75%</th>\n",
       "      <td>1.000000</td>\n",
       "      <td>20.000000</td>\n",
       "      <td>8.000000</td>\n",
       "      <td>2011-10-13 06:00:00</td>\n",
       "      <td>62000.000000</td>\n",
       "      <td>64000.000000</td>\n",
       "      <td>6.00000</td>\n",
       "    </tr>\n",
       "    <tr>\n",
       "      <th>max</th>\n",
       "      <td>1.000000</td>\n",
       "      <td>30.000000</td>\n",
       "      <td>14.000000</td>\n",
       "      <td>2020-08-05 00:00:00</td>\n",
       "      <td>69000.000000</td>\n",
       "      <td>72000.000000</td>\n",
       "      <td>7.00000</td>\n",
       "    </tr>\n",
       "    <tr>\n",
       "      <th>std</th>\n",
       "      <td>0.490756</td>\n",
       "      <td>6.730322</td>\n",
       "      <td>1.865840</td>\n",
       "      <td>NaN</td>\n",
       "      <td>3049.199088</td>\n",
       "      <td>3228.395804</td>\n",
       "      <td>2.15822</td>\n",
       "    </tr>\n",
       "  </tbody>\n",
       "</table>\n",
       "</div>"
      ],
      "text/plain": [
       "            Gender     Distance  YearsWorked                    HireDate  \\\n",
       "count  7500.000000  7500.000000  7500.000000                        7500   \n",
       "mean      0.404133    15.074000     7.013067  2007-07-28 13:20:38.400000   \n",
       "min       0.000000     5.000000     1.000000         1999-01-01 00:00:00   \n",
       "25%       0.000000    10.000000     6.000000         2003-04-03 00:00:00   \n",
       "50%       0.000000    15.000000     7.000000         2007-07-07 00:00:00   \n",
       "75%       1.000000    20.000000     8.000000         2011-10-13 06:00:00   \n",
       "max       1.000000    30.000000    14.000000         2020-08-05 00:00:00   \n",
       "std       0.490756     6.730322     1.865840                         NaN   \n",
       "\n",
       "       PreviousSalary        Salary  DepartmentCode  \n",
       "count     7500.000000   7500.000000      7500.00000  \n",
       "mean     59517.066667  61330.933333         3.99360  \n",
       "min      48000.000000  48000.000000         1.00000  \n",
       "25%      58000.000000  59000.000000         2.00000  \n",
       "50%      60000.000000  61000.000000         3.00000  \n",
       "75%      62000.000000  64000.000000         6.00000  \n",
       "max      69000.000000  72000.000000         7.00000  \n",
       "std       3049.199088   3228.395804         2.15822  "
      ]
     },
     "execution_count": 14,
     "metadata": {},
     "output_type": "execute_result"
    }
   ],
   "source": [
    "X_train.describe()"
   ]
  },
  {
   "cell_type": "markdown",
   "metadata": {},
   "source": [
    "As you can see I have converted the datatypes to int and i have converted the hire date to date time format and to make sure that visualizations are represented properly"
   ]
  },
  {
   "cell_type": "markdown",
   "metadata": {
    "id": "MTvYdbJb8Feu"
   },
   "source": [
    "# EDA"
   ]
  },
  {
   "cell_type": "markdown",
   "metadata": {},
   "source": [
    "With the help of this EDA we are gonna visualize the data and sho the relationship between variables"
   ]
  },
  {
   "cell_type": "code",
   "execution_count": 15,
   "metadata": {
    "colab": {
     "base_uri": "https://localhost:8080/",
     "height": 206
    },
    "id": "SUkqSOVdxXdb",
    "outputId": "efffd9a8-dd82-41c9-c97f-2d6f84a4f928"
   },
   "outputs": [
    {
     "data": {
      "text/html": [
       "<div>\n",
       "<style scoped>\n",
       "    .dataframe tbody tr th:only-of-type {\n",
       "        vertical-align: middle;\n",
       "    }\n",
       "\n",
       "    .dataframe tbody tr th {\n",
       "        vertical-align: top;\n",
       "    }\n",
       "\n",
       "    .dataframe thead th {\n",
       "        text-align: right;\n",
       "    }\n",
       "</style>\n",
       "<table border=\"1\" class=\"dataframe\">\n",
       "  <thead>\n",
       "    <tr style=\"text-align: right;\">\n",
       "      <th></th>\n",
       "      <th>Gender</th>\n",
       "      <th>Distance</th>\n",
       "      <th>YearsWorked</th>\n",
       "      <th>HireDate</th>\n",
       "      <th>PreviousSalary</th>\n",
       "      <th>Salary</th>\n",
       "      <th>DepartmentCode</th>\n",
       "    </tr>\n",
       "  </thead>\n",
       "  <tbody>\n",
       "    <tr>\n",
       "      <th>0</th>\n",
       "      <td>0</td>\n",
       "      <td>20</td>\n",
       "      <td>8</td>\n",
       "      <td>2007-09-05</td>\n",
       "      <td>63000</td>\n",
       "      <td>66000</td>\n",
       "      <td>3</td>\n",
       "    </tr>\n",
       "    <tr>\n",
       "      <th>1</th>\n",
       "      <td>0</td>\n",
       "      <td>30</td>\n",
       "      <td>7</td>\n",
       "      <td>2011-10-16</td>\n",
       "      <td>60000</td>\n",
       "      <td>63000</td>\n",
       "      <td>3</td>\n",
       "    </tr>\n",
       "    <tr>\n",
       "      <th>2</th>\n",
       "      <td>0</td>\n",
       "      <td>15</td>\n",
       "      <td>7</td>\n",
       "      <td>2011-05-18</td>\n",
       "      <td>59000</td>\n",
       "      <td>60000</td>\n",
       "      <td>3</td>\n",
       "    </tr>\n",
       "    <tr>\n",
       "      <th>3</th>\n",
       "      <td>1</td>\n",
       "      <td>5</td>\n",
       "      <td>3</td>\n",
       "      <td>2000-06-30</td>\n",
       "      <td>60000</td>\n",
       "      <td>61000</td>\n",
       "      <td>2</td>\n",
       "    </tr>\n",
       "    <tr>\n",
       "      <th>4</th>\n",
       "      <td>1</td>\n",
       "      <td>10</td>\n",
       "      <td>9</td>\n",
       "      <td>2010-04-28</td>\n",
       "      <td>56000</td>\n",
       "      <td>57000</td>\n",
       "      <td>7</td>\n",
       "    </tr>\n",
       "  </tbody>\n",
       "</table>\n",
       "</div>"
      ],
      "text/plain": [
       "   Gender  Distance  YearsWorked   HireDate  PreviousSalary  Salary  \\\n",
       "0       0        20            8 2007-09-05           63000   66000   \n",
       "1       0        30            7 2011-10-16           60000   63000   \n",
       "2       0        15            7 2011-05-18           59000   60000   \n",
       "3       1         5            3 2000-06-30           60000   61000   \n",
       "4       1        10            9 2010-04-28           56000   57000   \n",
       "\n",
       "   DepartmentCode  \n",
       "0               3  \n",
       "1               3  \n",
       "2               3  \n",
       "3               2  \n",
       "4               7  "
      ]
     },
     "execution_count": 15,
     "metadata": {},
     "output_type": "execute_result"
    }
   ],
   "source": [
    "X_train.head()"
   ]
  },
  {
   "cell_type": "code",
   "execution_count": 16,
   "metadata": {
    "colab": {
     "base_uri": "https://localhost:8080/",
     "height": 449
    },
    "id": "Jd8LtMcq9CRn",
    "outputId": "f083178e-6494-4dbb-9f5e-2d40141e67c1"
   },
   "outputs": [
    {
     "data": {
      "image/png": "[encoded data removed]",
      "text/plain": [
       "<Figure size 640x480 with 1 Axes>"
      ]
     },
     "metadata": {},
     "output_type": "display_data"
    }
   ],
   "source": [
    "# Plot for Previous Salary vs Salary\n",
    "\n",
    "from matplotlib import pyplot as plt\n",
    "X_train.plot(kind='scatter', x='PreviousSalary', y='Salary', s=32, alpha=.8)\n",
    "plt.gca().spines[['top', 'right',]].set_visible(False)"
   ]
  },
  {
   "cell_type": "markdown",
   "metadata": {
    "id": "JCzKJIul8g82"
   },
   "source": [
    "# Distribution Plots"
   ]
  },
  {
   "cell_type": "code",
   "execution_count": 17,
   "metadata": {
    "colab": {
     "base_uri": "https://localhost:8080/",
     "height": 452
    },
    "id": "RJCb_Aum8dJ3",
    "outputId": "b126f535-bc48-4f6e-b79c-fcd586a92146"
   },
   "outputs": [
    {
     "data": {
      "image/png": "[encoded data removed]",
      "text/plain": [
       "<Figure size 640x480 with 1 Axes>"
      ]
     },
     "metadata": {},
     "output_type": "display_data"
    }
   ],
   "source": [
    "from matplotlib import pyplot as plt\n",
    "X_train['PreviousSalary'].plot(kind='hist', bins=20, title='PreviousSalary')\n",
    "plt.gca().spines[['top', 'right',]].set_visible(False)"
   ]
  },
  {
   "cell_type": "code",
   "execution_count": 18,
   "metadata": {
    "colab": {
     "base_uri": "https://localhost:8080/",
     "height": 452
    },
    "id": "v38zGgyh4G_D",
    "outputId": "e66a4d06-30e6-4b33-839a-de2fb34b2d3e"
   },
   "outputs": [
    {
     "data": {
      "image/png": "[encoded data removed]",
      "text/plain": [
       "<Figure size 640x480 with 1 Axes>"
      ]
     },
     "metadata": {},
     "output_type": "display_data"
    }
   ],
   "source": [
    "from matplotlib import pyplot as plt\n",
    "X_train['YearsWorked'].plot(kind='hist', bins=20, title='YearsWorked')\n",
    "plt.gca().spines[['top', 'right',]].set_visible(False)"
   ]
  },
  {
   "cell_type": "code",
   "execution_count": 19,
   "metadata": {
    "colab": {
     "base_uri": "https://localhost:8080/",
     "height": 452
    },
    "id": "wNW4bS-e3-AJ",
    "outputId": "d103cd43-5274-4b3f-e5cb-dbfe45596232"
   },
   "outputs": [
    {
     "data": {
      "image/png": "[encoded data removed]",
      "text/plain": [
       "<Figure size 640x480 with 1 Axes>"
      ]
     },
     "metadata": {},
     "output_type": "display_data"
    }
   ],
   "source": [
    "from matplotlib import pyplot as plt\n",
    "X_train['Distance'].plot(kind='hist', bins=20, title='Distance')\n",
    "plt.gca().spines[['top', 'right',]].set_visible(False)"
   ]
  },
  {
   "cell_type": "code",
   "execution_count": 20,
   "metadata": {
    "colab": {
     "base_uri": "https://localhost:8080/",
     "height": 452
    },
    "id": "XAer_8Iy35_Z",
    "outputId": "5899c98c-986b-42c8-fa97-9f6e8dffe409"
   },
   "outputs": [
    {
     "data": {
      "image/png": "[encoded data removed]",
      "text/plain": [
       "<Figure size 640x480 with 1 Axes>"
      ]
     },
     "metadata": {},
     "output_type": "display_data"
    }
   ],
   "source": [
    "# @title Gender\n",
    "\n",
    "from matplotlib import pyplot as plt\n",
    "X_train['Gender'].plot(kind='hist', bins=20, title='Gender')\n",
    "plt.gca().spines[['top', 'right',]].set_visible(False)"
   ]
  },
  {
   "cell_type": "code",
   "execution_count": null,
   "metadata": {
    "id": "e3kFnTGq3lTg"
   },
   "outputs": [],
   "source": []
  },
  {
   "cell_type": "markdown",
   "metadata": {
    "id": "DPPhi0T98ngF"
   },
   "source": [
    "# Time series plots"
   ]
  },
  {
   "cell_type": "code",
   "execution_count": 21,
   "metadata": {
    "colab": {
     "base_uri": "https://localhost:8080/",
     "height": 548
    },
    "id": "PBnE8rf18xKy",
    "outputId": "ebf2e6a4-c687-4c07-e069-9510eee561ca"
   },
   "outputs": [
    {
     "data": {
      "image/png": "[encoded data removed]",
      "text/plain": [
       "<Figure size 1000x520 with 1 Axes>"
      ]
     },
     "metadata": {},
     "output_type": "display_data"
    }
   ],
   "source": [
    "from matplotlib import pyplot as plt\n",
    "import seaborn as sns\n",
    "def _plot_series(series, series_name, series_index=0):\n",
    "  palette = list(sns.palettes.mpl_palette('Dark2'))\n",
    "  xs = series['HireDate']\n",
    "  ys = series['YearsWorked']\n",
    "\n",
    "  plt.plot(xs, ys, label=series_name, color=palette[series_index % len(palette)])\n",
    "\n",
    "fig, ax = plt.subplots(figsize=(10, 5.2), layout='constrained')\n",
    "df_sorted = X_train.sort_values('HireDate', ascending=True)\n",
    "_plot_series(df_sorted, '')\n",
    "sns.despine(fig=fig, ax=ax)\n",
    "plt.xlabel('HireDate')\n",
    "_ = plt.ylabel('YearsWorked')"
   ]
  },
  {
   "cell_type": "code",
   "execution_count": 22,
   "metadata": {
    "colab": {
     "base_uri": "https://localhost:8080/",
     "height": 548
    },
    "id": "Zi4nHVd88ku-",
    "outputId": "bceab3d6-6f1d-4a3c-baa3-75ae84b7a91a"
   },
   "outputs": [
    {
     "data": {
      "image/png": "[encoded data removed]",
      "text/plain": [
       "<Figure size 1000x520 with 1 Axes>"
      ]
     },
     "metadata": {},
     "output_type": "display_data"
    }
   ],
   "source": [
    "from matplotlib import pyplot as plt\n",
    "import seaborn as sns\n",
    "def _plot_series(series, series_name, series_index=0):\n",
    "  palette = list(sns.palettes.mpl_palette('Dark2'))\n",
    "  xs = series['HireDate']\n",
    "  ys = series['Distance']\n",
    "\n",
    "  plt.plot(xs, ys, label=series_name, color=palette[series_index % len(palette)])\n",
    "\n",
    "fig, ax = plt.subplots(figsize=(10, 5.2), layout='constrained')\n",
    "df_sorted = X_train.sort_values('HireDate', ascending=True)\n",
    "_plot_series(df_sorted, '')\n",
    "sns.despine(fig=fig, ax=ax)\n",
    "plt.xlabel('HireDate')\n",
    "_ = plt.ylabel('Distance')"
   ]
  },
  {
   "cell_type": "code",
   "execution_count": 23,
   "metadata": {
    "colab": {
     "base_uri": "https://localhost:8080/",
     "height": 541
    },
    "id": "JD2UW-038tDo",
    "outputId": "0228701d-ffa0-4934-e70e-6ccdb506e871"
   },
   "outputs": [
    {
     "data": {
      "image/png": "[encoded data removed]",
      "text/plain": [
       "<Figure size 640x480 with 2 Axes>"
      ]
     },
     "metadata": {},
     "output_type": "display_data"
    }
   ],
   "source": [
    "# prompt: heat map for feature selection\n",
    "\n",
    "import matplotlib.pyplot as plt\n",
    "import seaborn as sns\n",
    "\n",
    "# Get the correlation matrix\n",
    "correlation_matrix = X_train.corr()\n",
    "\n",
    "# Create a heatmap\n",
    "sns.heatmap(correlation_matrix, annot=True, cmap='coolwarm')\n",
    "plt.show()\n"
   ]
  },
  {
   "cell_type": "markdown",
   "metadata": {},
   "source": [
    "As I can here I have observed the changes in the heatmap in which the factors are:\n",
    "\n",
    "•  Gender and Distance: 0.019 (weak positive correlation) This suggests that as Gender increases (e.g., from female to male), Distance tends to increase slightly as well. \n",
    "\n",
    "•  Gender and YearsWorked: -0.014 (weak negative correlation) This indicates a slight inverse relationship, where higher values of Gender (e.g., males) tend to have slightly fewer YearsWorked. \n",
    "\n",
    "•  Distance and YearsWorked: -0.0094 (weak negative correlation) This suggests that as Distance increases, YearsWorked tends to decrease slightly. \n",
    "\n",
    "•  HireDate and PreviousSalary: 0.014 (weak positive correlation) A later HireDate is associated with a slightly higher PreviousSalary. \n",
    "\n",
    "•  PreviousSalary and Salary: 0.96 (very strong positive correlation) This is an expected result, as an individual's previous salary is typically a strong predictor of their current salary. \n",
    "\n",
    "•  Salary and DepartmentCode: 0.0033 (very weak positive correlation) This suggests there is almost no linear relationship between Salary and DepartmentCode.\n"
   ]
  },
  {
   "cell_type": "code",
   "execution_count": 24,
   "metadata": {
    "colab": {
     "base_uri": "https://localhost:8080/",
     "height": 206
    },
    "id": "VjGq8aCBAOjR",
    "outputId": "0e0b5f4e-2f48-4ef0-d87b-29f582b22923"
   },
   "outputs": [
    {
     "data": {
      "text/html": [
       "<div>\n",
       "<style scoped>\n",
       "    .dataframe tbody tr th:only-of-type {\n",
       "        vertical-align: middle;\n",
       "    }\n",
       "\n",
       "    .dataframe tbody tr th {\n",
       "        vertical-align: top;\n",
       "    }\n",
       "\n",
       "    .dataframe thead th {\n",
       "        text-align: right;\n",
       "    }\n",
       "</style>\n",
       "<table border=\"1\" class=\"dataframe\">\n",
       "  <thead>\n",
       "    <tr style=\"text-align: right;\">\n",
       "      <th></th>\n",
       "      <th>Gender</th>\n",
       "      <th>Distance</th>\n",
       "      <th>YearsWorked</th>\n",
       "      <th>HireDate</th>\n",
       "      <th>PreviousSalary</th>\n",
       "      <th>Salary</th>\n",
       "      <th>DepartmentCode</th>\n",
       "    </tr>\n",
       "  </thead>\n",
       "  <tbody>\n",
       "    <tr>\n",
       "      <th>0</th>\n",
       "      <td>0</td>\n",
       "      <td>20</td>\n",
       "      <td>8</td>\n",
       "      <td>2007-09-05</td>\n",
       "      <td>63000</td>\n",
       "      <td>66000</td>\n",
       "      <td>3</td>\n",
       "    </tr>\n",
       "    <tr>\n",
       "      <th>1</th>\n",
       "      <td>0</td>\n",
       "      <td>30</td>\n",
       "      <td>7</td>\n",
       "      <td>2011-10-16</td>\n",
       "      <td>60000</td>\n",
       "      <td>63000</td>\n",
       "      <td>3</td>\n",
       "    </tr>\n",
       "    <tr>\n",
       "      <th>2</th>\n",
       "      <td>0</td>\n",
       "      <td>15</td>\n",
       "      <td>7</td>\n",
       "      <td>2011-05-18</td>\n",
       "      <td>59000</td>\n",
       "      <td>60000</td>\n",
       "      <td>3</td>\n",
       "    </tr>\n",
       "    <tr>\n",
       "      <th>3</th>\n",
       "      <td>1</td>\n",
       "      <td>5</td>\n",
       "      <td>3</td>\n",
       "      <td>2000-06-30</td>\n",
       "      <td>60000</td>\n",
       "      <td>61000</td>\n",
       "      <td>2</td>\n",
       "    </tr>\n",
       "    <tr>\n",
       "      <th>4</th>\n",
       "      <td>1</td>\n",
       "      <td>10</td>\n",
       "      <td>9</td>\n",
       "      <td>2010-04-28</td>\n",
       "      <td>56000</td>\n",
       "      <td>57000</td>\n",
       "      <td>7</td>\n",
       "    </tr>\n",
       "  </tbody>\n",
       "</table>\n",
       "</div>"
      ],
      "text/plain": [
       "   Gender  Distance  YearsWorked   HireDate  PreviousSalary  Salary  \\\n",
       "0       0        20            8 2007-09-05           63000   66000   \n",
       "1       0        30            7 2011-10-16           60000   63000   \n",
       "2       0        15            7 2011-05-18           59000   60000   \n",
       "3       1         5            3 2000-06-30           60000   61000   \n",
       "4       1        10            9 2010-04-28           56000   57000   \n",
       "\n",
       "   DepartmentCode  \n",
       "0               3  \n",
       "1               3  \n",
       "2               3  \n",
       "3               2  \n",
       "4               7  "
      ]
     },
     "execution_count": 24,
     "metadata": {},
     "output_type": "execute_result"
    }
   ],
   "source": [
    "X_train.head()"
   ]
  },
  {
   "cell_type": "code",
   "execution_count": 25,
   "metadata": {
    "colab": {
     "base_uri": "https://localhost:8080/",
     "height": 423
    },
    "id": "jpRSxhn7gt-_",
    "outputId": "72df05da-1f2e-4b6b-8bf5-db31614e690f"
   },
   "outputs": [
    {
     "data": {
      "text/html": [
       "<div>\n",
       "<style scoped>\n",
       "    .dataframe tbody tr th:only-of-type {\n",
       "        vertical-align: middle;\n",
       "    }\n",
       "\n",
       "    .dataframe tbody tr th {\n",
       "        vertical-align: top;\n",
       "    }\n",
       "\n",
       "    .dataframe thead th {\n",
       "        text-align: right;\n",
       "    }\n",
       "</style>\n",
       "<table border=\"1\" class=\"dataframe\">\n",
       "  <thead>\n",
       "    <tr style=\"text-align: right;\">\n",
       "      <th></th>\n",
       "      <th>Gender</th>\n",
       "      <th>Distance</th>\n",
       "      <th>YearsWorked</th>\n",
       "      <th>HireDate</th>\n",
       "      <th>PreviousSalary</th>\n",
       "      <th>Salary</th>\n",
       "      <th>DepartmentCode</th>\n",
       "    </tr>\n",
       "  </thead>\n",
       "  <tbody>\n",
       "    <tr>\n",
       "      <th>0</th>\n",
       "      <td>0</td>\n",
       "      <td>20</td>\n",
       "      <td>8</td>\n",
       "      <td>2007-09-05</td>\n",
       "      <td>63000</td>\n",
       "      <td>66000</td>\n",
       "      <td>3</td>\n",
       "    </tr>\n",
       "    <tr>\n",
       "      <th>1</th>\n",
       "      <td>0</td>\n",
       "      <td>30</td>\n",
       "      <td>7</td>\n",
       "      <td>2011-10-16</td>\n",
       "      <td>60000</td>\n",
       "      <td>63000</td>\n",
       "      <td>3</td>\n",
       "    </tr>\n",
       "    <tr>\n",
       "      <th>2</th>\n",
       "      <td>0</td>\n",
       "      <td>15</td>\n",
       "      <td>7</td>\n",
       "      <td>2011-05-18</td>\n",
       "      <td>59000</td>\n",
       "      <td>60000</td>\n",
       "      <td>3</td>\n",
       "    </tr>\n",
       "    <tr>\n",
       "      <th>3</th>\n",
       "      <td>1</td>\n",
       "      <td>5</td>\n",
       "      <td>3</td>\n",
       "      <td>2000-06-30</td>\n",
       "      <td>60000</td>\n",
       "      <td>61000</td>\n",
       "      <td>2</td>\n",
       "    </tr>\n",
       "    <tr>\n",
       "      <th>4</th>\n",
       "      <td>1</td>\n",
       "      <td>10</td>\n",
       "      <td>9</td>\n",
       "      <td>2010-04-28</td>\n",
       "      <td>56000</td>\n",
       "      <td>57000</td>\n",
       "      <td>7</td>\n",
       "    </tr>\n",
       "    <tr>\n",
       "      <th>...</th>\n",
       "      <td>...</td>\n",
       "      <td>...</td>\n",
       "      <td>...</td>\n",
       "      <td>...</td>\n",
       "      <td>...</td>\n",
       "      <td>...</td>\n",
       "      <td>...</td>\n",
       "    </tr>\n",
       "    <tr>\n",
       "      <th>7495</th>\n",
       "      <td>0</td>\n",
       "      <td>30</td>\n",
       "      <td>5</td>\n",
       "      <td>2014-03-15</td>\n",
       "      <td>60000</td>\n",
       "      <td>62000</td>\n",
       "      <td>6</td>\n",
       "    </tr>\n",
       "    <tr>\n",
       "      <th>7496</th>\n",
       "      <td>0</td>\n",
       "      <td>10</td>\n",
       "      <td>7</td>\n",
       "      <td>2011-07-10</td>\n",
       "      <td>64000</td>\n",
       "      <td>68000</td>\n",
       "      <td>3</td>\n",
       "    </tr>\n",
       "    <tr>\n",
       "      <th>7497</th>\n",
       "      <td>0</td>\n",
       "      <td>10</td>\n",
       "      <td>8</td>\n",
       "      <td>2006-08-19</td>\n",
       "      <td>56000</td>\n",
       "      <td>57000</td>\n",
       "      <td>2</td>\n",
       "    </tr>\n",
       "    <tr>\n",
       "      <th>7498</th>\n",
       "      <td>0</td>\n",
       "      <td>20</td>\n",
       "      <td>6</td>\n",
       "      <td>2016-09-18</td>\n",
       "      <td>60000</td>\n",
       "      <td>62000</td>\n",
       "      <td>5</td>\n",
       "    </tr>\n",
       "    <tr>\n",
       "      <th>7499</th>\n",
       "      <td>0</td>\n",
       "      <td>20</td>\n",
       "      <td>5</td>\n",
       "      <td>2013-12-26</td>\n",
       "      <td>57000</td>\n",
       "      <td>58000</td>\n",
       "      <td>7</td>\n",
       "    </tr>\n",
       "  </tbody>\n",
       "</table>\n",
       "<p>7500 rows × 7 columns</p>\n",
       "</div>"
      ],
      "text/plain": [
       "      Gender  Distance  YearsWorked   HireDate  PreviousSalary  Salary  \\\n",
       "0          0        20            8 2007-09-05           63000   66000   \n",
       "1          0        30            7 2011-10-16           60000   63000   \n",
       "2          0        15            7 2011-05-18           59000   60000   \n",
       "3          1         5            3 2000-06-30           60000   61000   \n",
       "4          1        10            9 2010-04-28           56000   57000   \n",
       "...      ...       ...          ...        ...             ...     ...   \n",
       "7495       0        30            5 2014-03-15           60000   62000   \n",
       "7496       0        10            7 2011-07-10           64000   68000   \n",
       "7497       0        10            8 2006-08-19           56000   57000   \n",
       "7498       0        20            6 2016-09-18           60000   62000   \n",
       "7499       0        20            5 2013-12-26           57000   58000   \n",
       "\n",
       "      DepartmentCode  \n",
       "0                  3  \n",
       "1                  3  \n",
       "2                  3  \n",
       "3                  2  \n",
       "4                  7  \n",
       "...              ...  \n",
       "7495               6  \n",
       "7496               3  \n",
       "7497               2  \n",
       "7498               5  \n",
       "7499               7  \n",
       "\n",
       "[7500 rows x 7 columns]"
      ]
     },
     "execution_count": 25,
     "metadata": {},
     "output_type": "execute_result"
    }
   ],
   "source": [
    "X_train"
   ]
  },
  {
   "cell_type": "code",
   "execution_count": 26,
   "metadata": {
    "colab": {
     "base_uri": "https://localhost:8080/"
    },
    "id": "FcDignZUmpxy",
    "outputId": "fae5cb8d-4b20-4a1b-cbee-036cab9fac7d"
   },
   "outputs": [
    {
     "name": "stdout",
     "output_type": "stream",
     "text": [
      "<class 'pandas.core.frame.DataFrame'>\n",
      "RangeIndex: 7500 entries, 0 to 7499\n",
      "Data columns (total 7 columns):\n",
      " #   Column          Non-Null Count  Dtype         \n",
      "---  ------          --------------  -----         \n",
      " 0   Gender          7500 non-null   int64         \n",
      " 1   Distance        7500 non-null   int32         \n",
      " 2   YearsWorked     7500 non-null   int64         \n",
      " 3   HireDate        7500 non-null   datetime64[ns]\n",
      " 4   PreviousSalary  7500 non-null   int32         \n",
      " 5   Salary          7500 non-null   int32         \n",
      " 6   DepartmentCode  7500 non-null   int64         \n",
      "dtypes: datetime64[ns](1), int32(3), int64(3)\n",
      "memory usage: 322.4 KB\n"
     ]
    }
   ],
   "source": [
    "X_train.info()"
   ]
  },
  {
   "cell_type": "code",
   "execution_count": 27,
   "metadata": {
    "colab": {
     "base_uri": "https://localhost:8080/",
     "height": 423
    },
    "id": "JpCDn2zqg-6c",
    "outputId": "e975f17c-a77d-4720-8840-a9e0f1742827"
   },
   "outputs": [
    {
     "data": {
      "text/html": [
       "<div>\n",
       "<style scoped>\n",
       "    .dataframe tbody tr th:only-of-type {\n",
       "        vertical-align: middle;\n",
       "    }\n",
       "\n",
       "    .dataframe tbody tr th {\n",
       "        vertical-align: top;\n",
       "    }\n",
       "\n",
       "    .dataframe thead th {\n",
       "        text-align: right;\n",
       "    }\n",
       "</style>\n",
       "<table border=\"1\" class=\"dataframe\">\n",
       "  <thead>\n",
       "    <tr style=\"text-align: right;\">\n",
       "      <th></th>\n",
       "      <th>Gender</th>\n",
       "      <th>Distance</th>\n",
       "      <th>YearsWorked</th>\n",
       "      <th>HireDate</th>\n",
       "      <th>PreviousSalary</th>\n",
       "      <th>Salary</th>\n",
       "      <th>DepartmentCode</th>\n",
       "    </tr>\n",
       "  </thead>\n",
       "  <tbody>\n",
       "    <tr>\n",
       "      <th>0</th>\n",
       "      <td>1</td>\n",
       "      <td>5</td>\n",
       "      <td>6</td>\n",
       "      <td>2011-07-19</td>\n",
       "      <td>59000</td>\n",
       "      <td>61000</td>\n",
       "      <td>6</td>\n",
       "    </tr>\n",
       "    <tr>\n",
       "      <th>1</th>\n",
       "      <td>0</td>\n",
       "      <td>15</td>\n",
       "      <td>2</td>\n",
       "      <td>2004-03-23</td>\n",
       "      <td>58000</td>\n",
       "      <td>60000</td>\n",
       "      <td>2</td>\n",
       "    </tr>\n",
       "    <tr>\n",
       "      <th>2</th>\n",
       "      <td>0</td>\n",
       "      <td>20</td>\n",
       "      <td>8</td>\n",
       "      <td>2000-09-19</td>\n",
       "      <td>58000</td>\n",
       "      <td>60000</td>\n",
       "      <td>7</td>\n",
       "    </tr>\n",
       "    <tr>\n",
       "      <th>3</th>\n",
       "      <td>0</td>\n",
       "      <td>30</td>\n",
       "      <td>6</td>\n",
       "      <td>2008-11-05</td>\n",
       "      <td>59000</td>\n",
       "      <td>61000</td>\n",
       "      <td>6</td>\n",
       "    </tr>\n",
       "    <tr>\n",
       "      <th>4</th>\n",
       "      <td>1</td>\n",
       "      <td>10</td>\n",
       "      <td>6</td>\n",
       "      <td>1999-01-16</td>\n",
       "      <td>58000</td>\n",
       "      <td>59000</td>\n",
       "      <td>2</td>\n",
       "    </tr>\n",
       "    <tr>\n",
       "      <th>...</th>\n",
       "      <td>...</td>\n",
       "      <td>...</td>\n",
       "      <td>...</td>\n",
       "      <td>...</td>\n",
       "      <td>...</td>\n",
       "      <td>...</td>\n",
       "      <td>...</td>\n",
       "    </tr>\n",
       "    <tr>\n",
       "      <th>2495</th>\n",
       "      <td>0</td>\n",
       "      <td>30</td>\n",
       "      <td>9</td>\n",
       "      <td>2003-06-13</td>\n",
       "      <td>58000</td>\n",
       "      <td>59000</td>\n",
       "      <td>7</td>\n",
       "    </tr>\n",
       "    <tr>\n",
       "      <th>2496</th>\n",
       "      <td>1</td>\n",
       "      <td>15</td>\n",
       "      <td>5</td>\n",
       "      <td>2007-03-13</td>\n",
       "      <td>60000</td>\n",
       "      <td>62000</td>\n",
       "      <td>1</td>\n",
       "    </tr>\n",
       "    <tr>\n",
       "      <th>2497</th>\n",
       "      <td>0</td>\n",
       "      <td>20</td>\n",
       "      <td>5</td>\n",
       "      <td>2004-09-22</td>\n",
       "      <td>61000</td>\n",
       "      <td>63000</td>\n",
       "      <td>6</td>\n",
       "    </tr>\n",
       "    <tr>\n",
       "      <th>2498</th>\n",
       "      <td>1</td>\n",
       "      <td>10</td>\n",
       "      <td>7</td>\n",
       "      <td>2000-02-12</td>\n",
       "      <td>56000</td>\n",
       "      <td>58000</td>\n",
       "      <td>3</td>\n",
       "    </tr>\n",
       "    <tr>\n",
       "      <th>2499</th>\n",
       "      <td>1</td>\n",
       "      <td>15</td>\n",
       "      <td>9</td>\n",
       "      <td>2003-05-05</td>\n",
       "      <td>60000</td>\n",
       "      <td>63000</td>\n",
       "      <td>6</td>\n",
       "    </tr>\n",
       "  </tbody>\n",
       "</table>\n",
       "<p>2500 rows × 7 columns</p>\n",
       "</div>"
      ],
      "text/plain": [
       "      Gender  Distance  YearsWorked   HireDate  PreviousSalary  Salary  \\\n",
       "0          1         5            6 2011-07-19           59000   61000   \n",
       "1          0        15            2 2004-03-23           58000   60000   \n",
       "2          0        20            8 2000-09-19           58000   60000   \n",
       "3          0        30            6 2008-11-05           59000   61000   \n",
       "4          1        10            6 1999-01-16           58000   59000   \n",
       "...      ...       ...          ...        ...             ...     ...   \n",
       "2495       0        30            9 2003-06-13           58000   59000   \n",
       "2496       1        15            5 2007-03-13           60000   62000   \n",
       "2497       0        20            5 2004-09-22           61000   63000   \n",
       "2498       1        10            7 2000-02-12           56000   58000   \n",
       "2499       1        15            9 2003-05-05           60000   63000   \n",
       "\n",
       "      DepartmentCode  \n",
       "0                  6  \n",
       "1                  2  \n",
       "2                  7  \n",
       "3                  6  \n",
       "4                  2  \n",
       "...              ...  \n",
       "2495               7  \n",
       "2496               1  \n",
       "2497               6  \n",
       "2498               3  \n",
       "2499               6  \n",
       "\n",
       "[2500 rows x 7 columns]"
      ]
     },
     "execution_count": 27,
     "metadata": {},
     "output_type": "execute_result"
    }
   ],
   "source": [
    "X_test"
   ]
  },
  {
   "cell_type": "code",
   "execution_count": 28,
   "metadata": {
    "colab": {
     "base_uri": "https://localhost:8080/"
    },
    "id": "j0DpedRzmm3_",
    "outputId": "d33c0324-5359-4cb9-f903-74a442d4c0d7"
   },
   "outputs": [
    {
     "name": "stdout",
     "output_type": "stream",
     "text": [
      "<class 'pandas.core.frame.DataFrame'>\n",
      "RangeIndex: 2500 entries, 0 to 2499\n",
      "Data columns (total 7 columns):\n",
      " #   Column          Non-Null Count  Dtype         \n",
      "---  ------          --------------  -----         \n",
      " 0   Gender          2500 non-null   int64         \n",
      " 1   Distance        2500 non-null   int32         \n",
      " 2   YearsWorked     2500 non-null   int64         \n",
      " 3   HireDate        2500 non-null   datetime64[ns]\n",
      " 4   PreviousSalary  2500 non-null   int32         \n",
      " 5   Salary          2500 non-null   int32         \n",
      " 6   DepartmentCode  2500 non-null   int64         \n",
      "dtypes: datetime64[ns](1), int32(3), int64(3)\n",
      "memory usage: 107.6 KB\n"
     ]
    }
   ],
   "source": [
    "X_test.info()"
   ]
  },
  {
   "cell_type": "markdown",
   "metadata": {
    "id": "uKuObhjG_c1v"
   },
   "source": [
    "# Trail Test"
   ]
  },
  {
   "cell_type": "code",
   "execution_count": 29,
   "metadata": {
    "id": "HsE9MO2j_Z8r"
   },
   "outputs": [],
   "source": [
    "import pandas as pd\n",
    "from sklearn.pipeline import Pipeline\n",
    "from sklearn.compose import ColumnTransformer\n",
    "from sklearn.preprocessing import StandardScaler, OneHotEncoder\n",
    "\n",
    "numeric_features = ['YearsWorked', 'PreviousSalary', 'Salary']\n",
    "categorical_features = ['Gender', 'Distance', 'DepartmentCode']\n",
    "\n",
    "numeric_transformer = Pipeline(steps=[\n",
    "    ('scaler', StandardScaler())\n",
    "])\n",
    "\n",
    "categorical_transformer = Pipeline(steps=[\n",
    "    ('onehot', OneHotEncoder(handle_unknown='ignore'))\n",
    "])\n",
    "\n",
    "preprocessing_pipeline = ColumnTransformer(\n",
    "    transformers=[\n",
    "        ('num', numeric_transformer, numeric_features),\n",
    "        ('cat', categorical_transformer, categorical_features)\n",
    "    ])\n",
    "\n",
    "\n",
    "X_train_processed = preprocessing_pipeline.fit_transform(X_train)\n",
    "X_test_processed = preprocessing_pipeline.transform(X_test)\n"
   ]
  },
  {
   "cell_type": "markdown",
   "metadata": {},
   "source": [
    "Here when we are doing k-means clustering we are going to calculate using two methods one method is silhoutte score and elbow plot as follows:"
   ]
  },
  {
   "cell_type": "code",
   "execution_count": 30,
   "metadata": {
    "colab": {
     "base_uri": "https://localhost:8080/",
     "height": 472
    },
    "id": "8iPfKrhq_aFs",
    "outputId": "a7934645-a165-4bc8-bc24-d9a989ff503b"
   },
   "outputs": [
    {
     "data": {
      "image/png": "[encoded data removed]",
      "text/plain": [
       "<Figure size 640x480 with 1 Axes>"
      ]
     },
     "metadata": {},
     "output_type": "display_data"
    }
   ],
   "source": [
    "from sklearn.cluster import KMeans\n",
    "from sklearn.metrics import silhouette_score\n",
    "import matplotlib.pyplot as plt\n",
    "\n",
    "\n",
    "silhouette_scores = []\n",
    "\n",
    "clusters_range = range(2, 50) \n",
    "\n",
    "# Perform KMeans clustering for each number of clusters\n",
    "for n_clusters in clusters_range:\n",
    "    kmeans = KMeans(n_clusters=n_clusters, n_init='auto', random_state=42)\n",
    "    kmeans.fit(X_train_processed)\n",
    "\n",
    "    # Compute silhouette score\n",
    "    silhouette_avg = silhouette_score(X_train_processed, kmeans.labels_)\n",
    "    silhouette_scores.append(silhouette_avg)\n",
    "\n",
    "# Plot silhouette scores\n",
    "plt.plot(clusters_range, silhouette_scores)\n",
    "plt.xlabel('Number of Clusters')\n",
    "plt.ylabel('Silhouette Score')\n",
    "plt.title('Silhouette Score vs Number of Clusters')\n",
    "plt.show()\n"
   ]
  },
  {
   "cell_type": "markdown",
   "metadata": {},
   "source": [
    "As you can see in the diagram:\n",
    "\n",
    "Initial Peak: The graph shows a sharp peak in the Silhouette Score when the number of clusters is around 2-4. This indicates that the data points are clustered exceptionally well at this number of clusters suggesting that the optimal number of clusters for this dataset is likely within this range.\n",
    "\n",
    "Subsequent Decline: After the initial peak the Silhouette Score declines and becomes more erratic as the number of clusters increases beyond the 2-4 range. This suggests that as the algorithm tries to divide the data into more clusters it struggles to find meaningful groupings and the quality of the clustering deteriorates. \n",
    "\n",
    "Fluctuations: As the number of clusters continues to increase the graph displays a fluctuating pattern with the Silhouette Score rising and falling. This indicates that there may be certain specific numbers of clusters where the data points cluster reasonably well but overall the clustering quality becomes less consistent as more clusters are added. \n",
    "\n",
    "Optimal Range Identification: The overall pattern of the graph with the initial peak followed by a decline and fluctuations suggests that the optimal number of clusters for this dataset is likely within the range of 2-4 clusters. Beyond this range the clustering algorithm struggles to find meaningful groupings and the quality of the clustering diminishes.\n"
   ]
  },
  {
   "cell_type": "code",
   "execution_count": 31,
   "metadata": {
    "colab": {
     "base_uri": "https://localhost:8080/",
     "height": 472
    },
    "id": "dlhNq5j9_aJk",
    "outputId": "9f921bb4-e2f6-4486-dbfc-c10a0b34b4c1"
   },
   "outputs": [
    {
     "data": {
      "image/png": "[encoded data removed]",
      "text/plain": [
       "<Figure size 640x480 with 1 Axes>"
      ]
     },
     "metadata": {},
     "output_type": "display_data"
    }
   ],
   "source": [
    "inertia_values = []\n",
    "\n",
    "clusters_range = range(2, 50)\n",
    "\n",
    "# Perform KMeans clustering for each number of clusters\n",
    "for n_clusters in clusters_range:\n",
    "    kmeans = KMeans(n_clusters=n_clusters, n_init=10, random_state=42)\n",
    "    kmeans.fit(X_train_processed)\n",
    "\n",
    "    # Store inertia value for elbow plot\n",
    "    inertia_values.append(kmeans.inertia_)\n",
    "\n",
    "# Visualize them using elbow plot\n",
    "plt.plot(clusters_range, inertia_values, marker='o')\n",
    "plt.xlabel('Number of Clusters')\n",
    "plt.ylabel('Inertia')\n",
    "plt.title('Elbow Plot')\n",
    "plt.show()"
   ]
  },
  {
   "cell_type": "markdown",
   "metadata": {},
   "source": [
    "The elbow method is a technique used to determine the optimal number of clusters in a dataset. The method involves calculating the inertia for each possible number of clusters and then plotting the results on a graph. The elbow in the graph indicates the optimal number of clusters.\n",
    "\n",
    "In this case, the elbow is located at k=4. This means that the optimal number of clusters in the dataset is 4.\n",
    "\n",
    "* The inertia is a measure of how well the data is clustered. A lower inertia indicates better clustering.\n",
    "* The elbow in the graph is the point at which the decrease in inertia starts to level off.\n",
    "* The optimal number of clusters is the point at the elbow.\n",
    "\n",
    "Another thing I have observed that while the number of clusters increases significantly the inertia value decreases.\n",
    "\n",
    "Therefore, the optimal number of clusters in this dataset is 4."
   ]
  },
  {
   "cell_type": "code",
   "execution_count": 32,
   "metadata": {
    "colab": {
     "base_uri": "https://localhost:8080/",
     "height": 206
    },
    "id": "pkhKH1GQCP_A",
    "outputId": "bb83188c-7a9c-4883-ef09-eb15fbffb78f"
   },
   "outputs": [
    {
     "data": {
      "text/html": [
       "<div>\n",
       "<style scoped>\n",
       "    .dataframe tbody tr th:only-of-type {\n",
       "        vertical-align: middle;\n",
       "    }\n",
       "\n",
       "    .dataframe tbody tr th {\n",
       "        vertical-align: top;\n",
       "    }\n",
       "\n",
       "    .dataframe thead th {\n",
       "        text-align: right;\n",
       "    }\n",
       "</style>\n",
       "<table border=\"1\" class=\"dataframe\">\n",
       "  <thead>\n",
       "    <tr style=\"text-align: right;\">\n",
       "      <th></th>\n",
       "      <th>Gender</th>\n",
       "      <th>Distance</th>\n",
       "      <th>YearsWorked</th>\n",
       "      <th>HireDate</th>\n",
       "      <th>PreviousSalary</th>\n",
       "      <th>Salary</th>\n",
       "      <th>DepartmentCode</th>\n",
       "      <th>ClusterLabel</th>\n",
       "    </tr>\n",
       "  </thead>\n",
       "  <tbody>\n",
       "    <tr>\n",
       "      <th>0</th>\n",
       "      <td>0</td>\n",
       "      <td>20</td>\n",
       "      <td>8</td>\n",
       "      <td>2007-09-05</td>\n",
       "      <td>63000</td>\n",
       "      <td>66000</td>\n",
       "      <td>3</td>\n",
       "      <td>29</td>\n",
       "    </tr>\n",
       "    <tr>\n",
       "      <th>1</th>\n",
       "      <td>0</td>\n",
       "      <td>30</td>\n",
       "      <td>7</td>\n",
       "      <td>2011-10-16</td>\n",
       "      <td>60000</td>\n",
       "      <td>63000</td>\n",
       "      <td>3</td>\n",
       "      <td>27</td>\n",
       "    </tr>\n",
       "    <tr>\n",
       "      <th>2</th>\n",
       "      <td>0</td>\n",
       "      <td>15</td>\n",
       "      <td>7</td>\n",
       "      <td>2011-05-18</td>\n",
       "      <td>59000</td>\n",
       "      <td>60000</td>\n",
       "      <td>3</td>\n",
       "      <td>28</td>\n",
       "    </tr>\n",
       "    <tr>\n",
       "      <th>3</th>\n",
       "      <td>1</td>\n",
       "      <td>5</td>\n",
       "      <td>3</td>\n",
       "      <td>2000-06-30</td>\n",
       "      <td>60000</td>\n",
       "      <td>61000</td>\n",
       "      <td>2</td>\n",
       "      <td>22</td>\n",
       "    </tr>\n",
       "    <tr>\n",
       "      <th>4</th>\n",
       "      <td>1</td>\n",
       "      <td>10</td>\n",
       "      <td>9</td>\n",
       "      <td>2010-04-28</td>\n",
       "      <td>56000</td>\n",
       "      <td>57000</td>\n",
       "      <td>7</td>\n",
       "      <td>33</td>\n",
       "    </tr>\n",
       "  </tbody>\n",
       "</table>\n",
       "</div>"
      ],
      "text/plain": [
       "   Gender  Distance  YearsWorked   HireDate  PreviousSalary  Salary  \\\n",
       "0       0        20            8 2007-09-05           63000   66000   \n",
       "1       0        30            7 2011-10-16           60000   63000   \n",
       "2       0        15            7 2011-05-18           59000   60000   \n",
       "3       1         5            3 2000-06-30           60000   61000   \n",
       "4       1        10            9 2010-04-28           56000   57000   \n",
       "\n",
       "   DepartmentCode  ClusterLabel  \n",
       "0               3            29  \n",
       "1               3            27  \n",
       "2               3            28  \n",
       "3               2            22  \n",
       "4               7            33  "
      ]
     },
     "execution_count": 32,
     "metadata": {},
     "output_type": "execute_result"
    }
   ],
   "source": [
    "from sklearn.cluster import KMeans\n",
    "\n",
    "num_clusters = 35\n",
    "\n",
    "kmeans = KMeans(n_clusters=num_clusters, random_state=42, n_init='auto')\n",
    "\n",
    "kmeans.fit(X_train_processed)\n",
    "\n",
    "X_train['ClusterLabel'] = kmeans.labels_\n",
    "\n",
    "X_train.head()"
   ]
  },
  {
   "cell_type": "code",
   "execution_count": 33,
   "metadata": {
    "colab": {
     "base_uri": "https://localhost:8080/",
     "height": 824
    },
    "id": "8L9j0ayncxcE",
    "outputId": "1247cb4b-77fe-4bc5-917a-1dadc0a5feca"
   },
   "outputs": [
    {
     "data": {
      "image/png": "[encoded data removed]",
      "text/plain": [
       "<Figure size 800x600 with 1 Axes>"
      ]
     },
     "metadata": {},
     "output_type": "display_data"
    }
   ],
   "source": [
    "import matplotlib.pyplot as plt\n",
    "\n",
    "# Extract PCA-transformed features\n",
    "pca_features = X_train_processed[:, :2]  # Assuming you used 2 components in PCA\n",
    "\n",
    "\n",
    "plt.figure(figsize=(8, 6))\n",
    "\n",
    "# Visualize a scatter plot for clusters\n",
    "for cluster_label in range(num_clusters):\n",
    "    plt.scatter(pca_features[X_train['ClusterLabel'] == cluster_label, 0],\n",
    "                pca_features[X_train['ClusterLabel'] == cluster_label, 1],\n",
    "                label=f'Cluster {cluster_label}', alpha=0.7)\n",
    "\n",
    "# Plot cluster centroids\n",
    "centroids = kmeans.cluster_centers_[:, :2]\n",
    "plt.scatter(centroids[:, 0], centroids[:, 1],\n",
    "            marker='x', s=100, color='black', label='Centroids')\n",
    "\n",
    "plt.title(f'KMeans Clustering with {num_clusters} Clusters')\n",
    "plt.xlabel('Principal Component 1')\n",
    "plt.ylabel('Principal Component 2')\n",
    "plt.legend()\n",
    "plt.show()\n"
   ]
  },
  {
   "cell_type": "markdown",
   "metadata": {},
   "source": [
    "In this case I have implemented as an example of 35 clusters and visualized it and i have calculated the centroids\n",
    "to show the nearest distance "
   ]
  },
  {
   "cell_type": "code",
   "execution_count": 34,
   "metadata": {
    "colab": {
     "base_uri": "https://localhost:8080/",
     "height": 564
    },
    "id": "gHP2LQw8By37",
    "outputId": "48d7036e-cc1e-4b19-eca1-842c1a2ec86b"
   },
   "outputs": [
    {
     "data": {
      "image/png": "[encoded data removed]",
      "text/plain": [
       "<Figure size 800x600 with 1 Axes>"
      ]
     },
     "metadata": {},
     "output_type": "display_data"
    }
   ],
   "source": [
    "from sklearn.cluster import AgglomerativeClustering\n",
    "import matplotlib.pyplot as plt\n",
    "\n",
    "# Fit AgglomerativeClustering model\n",
    "agglomerative = AgglomerativeClustering(n_clusters=4)\n",
    "cluster_labels = agglomerative.fit_predict(X_train_processed)\n",
    "\n",
    "# Extract PCA-transformed features\n",
    "pca_features = X_train_processed[:, :2]  # Assuming you used 2 components in PCA\n",
    "\n",
    "# Plot the clusters\n",
    "plt.figure(figsize=(8, 6))\n",
    "\n",
    "# Scatter plot for each cluster\n",
    "for cluster_label in range(4):\n",
    "    plt.scatter(pca_features[cluster_labels == cluster_label, 0],\n",
    "                pca_features[cluster_labels == cluster_label, 1],\n",
    "                label=f'Cluster {cluster_label}', alpha=0.7)\n",
    "\n",
    "plt.title('Agglomerative Clustering with 4 Clusters')\n",
    "plt.xlabel('Principal Component 1')\n",
    "plt.ylabel('Principal Component 2')\n",
    "plt.legend()\n",
    "plt.show()\n"
   ]
  },
  {
   "cell_type": "markdown",
   "metadata": {},
   "source": [
    "Four distinct clusters: The data points are grouped into four distinct clusters, represented by different colors - blue (Cluster 0), orange (Cluster 1), green (Cluster 2), and red (Cluster 3).\n",
    "    \n",
    "The clusters are visually separated from each other along the Principal Component 1 axis, with some overlap between adjacent clusters.\n",
    "    \n",
    "The red cluster (Cluster 3) appears to be the largest followed by the green cluster (Cluster 2). The blue (Cluster 0) and orange (Cluster 1) clusters are relatively smaller.\n",
    "    \n",
    "The clusters exhibit different shapes and distributions. For example in this case the red cluster (Cluster 3) appears elongated, while the green cluster (Cluster 2) is more compact.\n",
    "    \n",
    "Potential outliers: There are a few data points (green) that seem to be isolated from the main clusters, potentially indicating outliers or noise in the data."
   ]
  },
  {
   "cell_type": "code",
   "execution_count": 35,
   "metadata": {
    "id": "bjOl59R5DEtZ"
   },
   "outputs": [],
   "source": [
    "# Define the KMeans pipeline\n",
    "kmeans_pipeline = Pipeline(steps=[\n",
    "    ('preprocessor', preprocessing_pipeline),\n",
    "    ('kmeans', KMeans(n_clusters=4, n_init=10, random_state=42))  # Set the number of clusters and n_init\n",
    "])\n",
    "\n",
    "# Fit the KMeans pipeline to your data\n",
    "kmeans_pipeline.fit(X_train)\n",
    "\n",
    "X_train['cluster'] = kmeans_pipeline.predict(X_train)"
   ]
  },
  {
   "cell_type": "code",
   "execution_count": 36,
   "metadata": {
    "colab": {
     "base_uri": "https://localhost:8080/"
    },
    "id": "82g8okHyDEwO",
    "outputId": "cd73116d-84b0-4c0d-cd16-1a4bb387741a"
   },
   "outputs": [
    {
     "name": "stdout",
     "output_type": "stream",
     "text": [
      "Cluster Centroids:\n",
      "[[ 0.02511657  1.17684534  1.19646235  0.60187598  0.39812402  0.09588327\n",
      "   0.31474726  0.29390307  0.19958312  0.09588327  0.17352788  0.16988015\n",
      "   0.17300677  0.14851485  0.17665451  0.15841584]\n",
      " [ 0.09128344 -1.38659639 -1.36145409  0.61357868  0.38642132  0.09771574\n",
      "   0.3071066   0.28616751  0.19670051  0.11230964  0.17322335  0.16370558\n",
      "   0.16751269  0.16497462  0.17956853  0.15101523]\n",
      " [ 0.79709758 -0.01891371 -0.03372198  0.5948856   0.4051144   0.10049349\n",
      "   0.2974428   0.29654554  0.19964109  0.10587707  0.15657245  0.16689098\n",
      "   0.16330193  0.1628533   0.18618214  0.16419919]\n",
      " [-1.10855399 -0.01741646 -0.04233858  0.57488739  0.42511261  0.09572072\n",
      "   0.28153153  0.30574324  0.22297297  0.09403153  0.16948198  0.15653153\n",
      "   0.1829955   0.1615991   0.15484234  0.17454955]]\n"
     ]
    }
   ],
   "source": [
    "# Access the cluster centroids\n",
    "centroids = kmeans_pipeline.named_steps['kmeans'].cluster_centers_\n",
    "\n",
    "# Print the centroids\n",
    "print(\"Cluster Centroids:\")\n",
    "print(centroids)"
   ]
  },
  {
   "cell_type": "code",
   "execution_count": 37,
   "metadata": {
    "colab": {
     "base_uri": "https://localhost:8080/"
    },
    "id": "dcfdgJcADEyp",
    "outputId": "aa5043d7-c3f0-4e27-e52f-a4674839e0a2"
   },
   "outputs": [
    {
     "data": {
      "text/plain": [
       "array([[1.51666367, 4.05526306, 2.37024506, 2.86355382],\n",
       "       [1.92095331, 2.84051757, 1.78212772, 1.94224978],\n",
       "       [2.48919516, 2.04625762, 1.62045987, 1.77908003],\n",
       "       ...,\n",
       "       [3.72624691, 1.41686734, 2.20773287, 2.74834228],\n",
       "       [2.09051596, 2.68879769, 1.97315743, 1.55341482],\n",
       "       [3.49367879, 1.94944941, 2.67802873, 1.89925225]])"
      ]
     },
     "execution_count": 37,
     "metadata": {},
     "output_type": "execute_result"
    }
   ],
   "source": [
    "X_distance = kmeans_pipeline.transform(X_train)\n",
    "X_distance"
   ]
  },
  {
   "cell_type": "code",
   "execution_count": 38,
   "metadata": {
    "colab": {
     "base_uri": "https://localhost:8080/"
    },
    "id": "Zipeow-6DE2K",
    "outputId": "1b5d8585-d5f5-48b0-d8d6-aa185a97dace"
   },
   "outputs": [
    {
     "data": {
      "text/plain": [
       "array([1343, 1416, 2649, 3144], dtype=int64)"
      ]
     },
     "execution_count": 38,
     "metadata": {},
     "output_type": "execute_result"
    }
   ],
   "source": [
    "import numpy as np\n",
    "\n",
    "representative_idx = np.argmin(X_distance, axis=0)\n",
    "representative_idx"
   ]
  },
  {
   "cell_type": "code",
   "execution_count": 39,
   "metadata": {
    "id": "sBgz003pxiH5"
   },
   "outputs": [],
   "source": [
    "#dataframe"
   ]
  },
  {
   "cell_type": "code",
   "execution_count": 40,
   "metadata": {
    "colab": {
     "base_uri": "https://localhost:8080/",
     "height": 909
    },
    "id": "X9Z_6lwAHK4O",
    "outputId": "ed0608f3-4dcc-4aa9-a29a-3fc5083bf85e"
   },
   "outputs": [
    {
     "name": "stdout",
     "output_type": "stream",
     "text": [
      "      Gender  Distance  YearsWorked   HireDate  PreviousSalary  Salary  \\\n",
      "1343       0        10            7 2010-09-19           63000   65000   \n",
      "\n",
      "      DepartmentCode  ClusterLabel  cluster  left  \n",
      "1343               6            32        0  None  \n",
      "Enter value for 'left' attribute for Cluster 0: 1\n",
      "----------------------\n",
      "      Gender  Distance  YearsWorked   HireDate  PreviousSalary  Salary  \\\n",
      "1416       0        10            7 2015-03-04           55000   57000   \n",
      "\n",
      "      DepartmentCode  ClusterLabel  cluster  left  \n",
      "1416               6            12        1  None  \n",
      "Enter value for 'left' attribute for Cluster 1: 0\n",
      "----------------------\n",
      "      Gender  Distance  YearsWorked   HireDate  PreviousSalary  Salary  \\\n",
      "2649       0        15            9 2013-03-23           59000   61000   \n",
      "\n",
      "      DepartmentCode  ClusterLabel  cluster  left  \n",
      "2649               6             1        2  None  \n",
      "Enter value for 'left' attribute for Cluster 2: 0\n",
      "----------------------\n",
      "      Gender  Distance  YearsWorked   HireDate  PreviousSalary  Salary  \\\n",
      "3144       0        15            5 1999-05-11           59000   61000   \n",
      "\n",
      "      DepartmentCode  ClusterLabel  cluster  left  \n",
      "3144               3            11        3  None  \n",
      "Enter value for 'left' attribute for Cluster 3: 1\n",
      "----------------------\n"
     ]
    },
    {
     "data": {
      "text/html": [
       "<div>\n",
       "<style scoped>\n",
       "    .dataframe tbody tr th:only-of-type {\n",
       "        vertical-align: middle;\n",
       "    }\n",
       "\n",
       "    .dataframe tbody tr th {\n",
       "        vertical-align: top;\n",
       "    }\n",
       "\n",
       "    .dataframe thead th {\n",
       "        text-align: right;\n",
       "    }\n",
       "</style>\n",
       "<table border=\"1\" class=\"dataframe\">\n",
       "  <thead>\n",
       "    <tr style=\"text-align: right;\">\n",
       "      <th></th>\n",
       "      <th>Gender</th>\n",
       "      <th>Distance</th>\n",
       "      <th>YearsWorked</th>\n",
       "      <th>HireDate</th>\n",
       "      <th>PreviousSalary</th>\n",
       "      <th>Salary</th>\n",
       "      <th>DepartmentCode</th>\n",
       "      <th>ClusterLabel</th>\n",
       "      <th>cluster</th>\n",
       "      <th>left</th>\n",
       "    </tr>\n",
       "  </thead>\n",
       "  <tbody>\n",
       "    <tr>\n",
       "      <th>0</th>\n",
       "      <td>0</td>\n",
       "      <td>20</td>\n",
       "      <td>8</td>\n",
       "      <td>2007-09-05</td>\n",
       "      <td>63000</td>\n",
       "      <td>66000</td>\n",
       "      <td>3</td>\n",
       "      <td>29</td>\n",
       "      <td>0</td>\n",
       "      <td>1</td>\n",
       "    </tr>\n",
       "    <tr>\n",
       "      <th>1</th>\n",
       "      <td>0</td>\n",
       "      <td>30</td>\n",
       "      <td>7</td>\n",
       "      <td>2011-10-16</td>\n",
       "      <td>60000</td>\n",
       "      <td>63000</td>\n",
       "      <td>3</td>\n",
       "      <td>27</td>\n",
       "      <td>2</td>\n",
       "      <td>0</td>\n",
       "    </tr>\n",
       "    <tr>\n",
       "      <th>2</th>\n",
       "      <td>0</td>\n",
       "      <td>15</td>\n",
       "      <td>7</td>\n",
       "      <td>2011-05-18</td>\n",
       "      <td>59000</td>\n",
       "      <td>60000</td>\n",
       "      <td>3</td>\n",
       "      <td>28</td>\n",
       "      <td>2</td>\n",
       "      <td>0</td>\n",
       "    </tr>\n",
       "    <tr>\n",
       "      <th>3</th>\n",
       "      <td>1</td>\n",
       "      <td>5</td>\n",
       "      <td>3</td>\n",
       "      <td>2000-06-30</td>\n",
       "      <td>60000</td>\n",
       "      <td>61000</td>\n",
       "      <td>2</td>\n",
       "      <td>22</td>\n",
       "      <td>3</td>\n",
       "      <td>1</td>\n",
       "    </tr>\n",
       "    <tr>\n",
       "      <th>4</th>\n",
       "      <td>1</td>\n",
       "      <td>10</td>\n",
       "      <td>9</td>\n",
       "      <td>2010-04-28</td>\n",
       "      <td>56000</td>\n",
       "      <td>57000</td>\n",
       "      <td>7</td>\n",
       "      <td>33</td>\n",
       "      <td>1</td>\n",
       "      <td>0</td>\n",
       "    </tr>\n",
       "    <tr>\n",
       "      <th>...</th>\n",
       "      <td>...</td>\n",
       "      <td>...</td>\n",
       "      <td>...</td>\n",
       "      <td>...</td>\n",
       "      <td>...</td>\n",
       "      <td>...</td>\n",
       "      <td>...</td>\n",
       "      <td>...</td>\n",
       "      <td>...</td>\n",
       "      <td>...</td>\n",
       "    </tr>\n",
       "    <tr>\n",
       "      <th>7495</th>\n",
       "      <td>0</td>\n",
       "      <td>30</td>\n",
       "      <td>5</td>\n",
       "      <td>2014-03-15</td>\n",
       "      <td>60000</td>\n",
       "      <td>62000</td>\n",
       "      <td>6</td>\n",
       "      <td>7</td>\n",
       "      <td>3</td>\n",
       "      <td>1</td>\n",
       "    </tr>\n",
       "    <tr>\n",
       "      <th>7496</th>\n",
       "      <td>0</td>\n",
       "      <td>10</td>\n",
       "      <td>7</td>\n",
       "      <td>2011-07-10</td>\n",
       "      <td>64000</td>\n",
       "      <td>68000</td>\n",
       "      <td>3</td>\n",
       "      <td>34</td>\n",
       "      <td>0</td>\n",
       "      <td>1</td>\n",
       "    </tr>\n",
       "    <tr>\n",
       "      <th>7497</th>\n",
       "      <td>0</td>\n",
       "      <td>10</td>\n",
       "      <td>8</td>\n",
       "      <td>2006-08-19</td>\n",
       "      <td>56000</td>\n",
       "      <td>57000</td>\n",
       "      <td>2</td>\n",
       "      <td>12</td>\n",
       "      <td>1</td>\n",
       "      <td>0</td>\n",
       "    </tr>\n",
       "    <tr>\n",
       "      <th>7498</th>\n",
       "      <td>0</td>\n",
       "      <td>20</td>\n",
       "      <td>6</td>\n",
       "      <td>2016-09-18</td>\n",
       "      <td>60000</td>\n",
       "      <td>62000</td>\n",
       "      <td>5</td>\n",
       "      <td>2</td>\n",
       "      <td>3</td>\n",
       "      <td>1</td>\n",
       "    </tr>\n",
       "    <tr>\n",
       "      <th>7499</th>\n",
       "      <td>0</td>\n",
       "      <td>20</td>\n",
       "      <td>5</td>\n",
       "      <td>2013-12-26</td>\n",
       "      <td>57000</td>\n",
       "      <td>58000</td>\n",
       "      <td>7</td>\n",
       "      <td>15</td>\n",
       "      <td>3</td>\n",
       "      <td>1</td>\n",
       "    </tr>\n",
       "  </tbody>\n",
       "</table>\n",
       "<p>7500 rows × 10 columns</p>\n",
       "</div>"
      ],
      "text/plain": [
       "      Gender  Distance  YearsWorked   HireDate  PreviousSalary  Salary  \\\n",
       "0          0        20            8 2007-09-05           63000   66000   \n",
       "1          0        30            7 2011-10-16           60000   63000   \n",
       "2          0        15            7 2011-05-18           59000   60000   \n",
       "3          1         5            3 2000-06-30           60000   61000   \n",
       "4          1        10            9 2010-04-28           56000   57000   \n",
       "...      ...       ...          ...        ...             ...     ...   \n",
       "7495       0        30            5 2014-03-15           60000   62000   \n",
       "7496       0        10            7 2011-07-10           64000   68000   \n",
       "7497       0        10            8 2006-08-19           56000   57000   \n",
       "7498       0        20            6 2016-09-18           60000   62000   \n",
       "7499       0        20            5 2013-12-26           57000   58000   \n",
       "\n",
       "      DepartmentCode  ClusterLabel  cluster left  \n",
       "0                  3            29        0    1  \n",
       "1                  3            27        2    0  \n",
       "2                  3            28        2    0  \n",
       "3                  2            22        3    1  \n",
       "4                  7            33        1    0  \n",
       "...              ...           ...      ...  ...  \n",
       "7495               6             7        3    1  \n",
       "7496               3            34        0    1  \n",
       "7497               2            12        1    0  \n",
       "7498               5             2        3    1  \n",
       "7499               7            15        3    1  \n",
       "\n",
       "[7500 rows x 10 columns]"
      ]
     },
     "execution_count": 40,
     "metadata": {},
     "output_type": "execute_result"
    }
   ],
   "source": [
    "X_train['left'] = None\n",
    "\n",
    "cluster=0\n",
    "for idx in representative_idx:\n",
    "#     print(idx)\n",
    "    print(X_train[idx:idx+1])\n",
    "    left = input(f\"Enter value for 'left' attribute for Cluster {cluster}: \")\n",
    "    X_train['left'] = [ left if c == cluster else g  for c, g in zip(X_train['cluster'], X_train['left'])]\n",
    "    cluster+=1\n",
    "    print('----------------------')\n",
    "\n",
    "X_train"
   ]
  },
  {
   "cell_type": "code",
   "execution_count": 41,
   "metadata": {
    "colab": {
     "base_uri": "https://localhost:8080/"
    },
    "id": "yeEfEZz5KN_c",
    "outputId": "8b5127e8-a72b-4046-d8e4-22dc3a3b844c"
   },
   "outputs": [
    {
     "data": {
      "text/plain": [
       "left\n",
       "0    3805\n",
       "1    3695\n",
       "Name: count, dtype: int64"
      ]
     },
     "execution_count": 41,
     "metadata": {},
     "output_type": "execute_result"
    }
   ],
   "source": [
    "X_train['left'].value_counts()"
   ]
  },
  {
   "cell_type": "code",
   "execution_count": 42,
   "metadata": {
    "colab": {
     "base_uri": "https://localhost:8080/",
     "height": 363
    },
    "id": "QHWvpXXfb4oV",
    "outputId": "3eeaf1a4-5eef-448f-a313-59f03e707551"
   },
   "outputs": [
    {
     "data": {
      "text/html": [
       "<div>\n",
       "<style scoped>\n",
       "    .dataframe tbody tr th:only-of-type {\n",
       "        vertical-align: middle;\n",
       "    }\n",
       "\n",
       "    .dataframe tbody tr th {\n",
       "        vertical-align: top;\n",
       "    }\n",
       "\n",
       "    .dataframe thead th {\n",
       "        text-align: right;\n",
       "    }\n",
       "</style>\n",
       "<table border=\"1\" class=\"dataframe\">\n",
       "  <thead>\n",
       "    <tr style=\"text-align: right;\">\n",
       "      <th></th>\n",
       "      <th>Gender</th>\n",
       "      <th>Distance</th>\n",
       "      <th>YearsWorked</th>\n",
       "      <th>HireDate</th>\n",
       "      <th>PreviousSalary</th>\n",
       "      <th>Salary</th>\n",
       "      <th>DepartmentCode</th>\n",
       "      <th>ClusterLabel</th>\n",
       "      <th>cluster</th>\n",
       "      <th>left</th>\n",
       "    </tr>\n",
       "  </thead>\n",
       "  <tbody>\n",
       "    <tr>\n",
       "      <th>0</th>\n",
       "      <td>0</td>\n",
       "      <td>20</td>\n",
       "      <td>8</td>\n",
       "      <td>2007-09-05</td>\n",
       "      <td>63000</td>\n",
       "      <td>66000</td>\n",
       "      <td>3</td>\n",
       "      <td>29</td>\n",
       "      <td>0</td>\n",
       "      <td>1</td>\n",
       "    </tr>\n",
       "    <tr>\n",
       "      <th>1</th>\n",
       "      <td>0</td>\n",
       "      <td>30</td>\n",
       "      <td>7</td>\n",
       "      <td>2011-10-16</td>\n",
       "      <td>60000</td>\n",
       "      <td>63000</td>\n",
       "      <td>3</td>\n",
       "      <td>27</td>\n",
       "      <td>2</td>\n",
       "      <td>0</td>\n",
       "    </tr>\n",
       "    <tr>\n",
       "      <th>2</th>\n",
       "      <td>0</td>\n",
       "      <td>15</td>\n",
       "      <td>7</td>\n",
       "      <td>2011-05-18</td>\n",
       "      <td>59000</td>\n",
       "      <td>60000</td>\n",
       "      <td>3</td>\n",
       "      <td>28</td>\n",
       "      <td>2</td>\n",
       "      <td>0</td>\n",
       "    </tr>\n",
       "    <tr>\n",
       "      <th>3</th>\n",
       "      <td>1</td>\n",
       "      <td>5</td>\n",
       "      <td>3</td>\n",
       "      <td>2000-06-30</td>\n",
       "      <td>60000</td>\n",
       "      <td>61000</td>\n",
       "      <td>2</td>\n",
       "      <td>22</td>\n",
       "      <td>3</td>\n",
       "      <td>1</td>\n",
       "    </tr>\n",
       "    <tr>\n",
       "      <th>4</th>\n",
       "      <td>1</td>\n",
       "      <td>10</td>\n",
       "      <td>9</td>\n",
       "      <td>2010-04-28</td>\n",
       "      <td>56000</td>\n",
       "      <td>57000</td>\n",
       "      <td>7</td>\n",
       "      <td>33</td>\n",
       "      <td>1</td>\n",
       "      <td>0</td>\n",
       "    </tr>\n",
       "    <tr>\n",
       "      <th>5</th>\n",
       "      <td>1</td>\n",
       "      <td>15</td>\n",
       "      <td>10</td>\n",
       "      <td>2008-01-10</td>\n",
       "      <td>60000</td>\n",
       "      <td>62000</td>\n",
       "      <td>1</td>\n",
       "      <td>14</td>\n",
       "      <td>2</td>\n",
       "      <td>0</td>\n",
       "    </tr>\n",
       "    <tr>\n",
       "      <th>6</th>\n",
       "      <td>0</td>\n",
       "      <td>15</td>\n",
       "      <td>6</td>\n",
       "      <td>2007-06-10</td>\n",
       "      <td>62000</td>\n",
       "      <td>64000</td>\n",
       "      <td>2</td>\n",
       "      <td>26</td>\n",
       "      <td>0</td>\n",
       "      <td>1</td>\n",
       "    </tr>\n",
       "    <tr>\n",
       "      <th>7</th>\n",
       "      <td>0</td>\n",
       "      <td>15</td>\n",
       "      <td>9</td>\n",
       "      <td>2000-02-29</td>\n",
       "      <td>63000</td>\n",
       "      <td>64000</td>\n",
       "      <td>2</td>\n",
       "      <td>9</td>\n",
       "      <td>0</td>\n",
       "      <td>1</td>\n",
       "    </tr>\n",
       "    <tr>\n",
       "      <th>8</th>\n",
       "      <td>1</td>\n",
       "      <td>20</td>\n",
       "      <td>7</td>\n",
       "      <td>2007-05-24</td>\n",
       "      <td>59000</td>\n",
       "      <td>60000</td>\n",
       "      <td>6</td>\n",
       "      <td>19</td>\n",
       "      <td>2</td>\n",
       "      <td>0</td>\n",
       "    </tr>\n",
       "    <tr>\n",
       "      <th>9</th>\n",
       "      <td>0</td>\n",
       "      <td>20</td>\n",
       "      <td>3</td>\n",
       "      <td>2013-07-16</td>\n",
       "      <td>62000</td>\n",
       "      <td>65000</td>\n",
       "      <td>7</td>\n",
       "      <td>0</td>\n",
       "      <td>3</td>\n",
       "      <td>1</td>\n",
       "    </tr>\n",
       "  </tbody>\n",
       "</table>\n",
       "</div>"
      ],
      "text/plain": [
       "   Gender  Distance  YearsWorked   HireDate  PreviousSalary  Salary  \\\n",
       "0       0        20            8 2007-09-05           63000   66000   \n",
       "1       0        30            7 2011-10-16           60000   63000   \n",
       "2       0        15            7 2011-05-18           59000   60000   \n",
       "3       1         5            3 2000-06-30           60000   61000   \n",
       "4       1        10            9 2010-04-28           56000   57000   \n",
       "5       1        15           10 2008-01-10           60000   62000   \n",
       "6       0        15            6 2007-06-10           62000   64000   \n",
       "7       0        15            9 2000-02-29           63000   64000   \n",
       "8       1        20            7 2007-05-24           59000   60000   \n",
       "9       0        20            3 2013-07-16           62000   65000   \n",
       "\n",
       "   DepartmentCode  ClusterLabel  cluster left  \n",
       "0               3            29        0    1  \n",
       "1               3            27        2    0  \n",
       "2               3            28        2    0  \n",
       "3               2            22        3    1  \n",
       "4               7            33        1    0  \n",
       "5               1            14        2    0  \n",
       "6               2            26        0    1  \n",
       "7               2             9        0    1  \n",
       "8               6            19        2    0  \n",
       "9               7             0        3    1  "
      ]
     },
     "execution_count": 42,
     "metadata": {},
     "output_type": "execute_result"
    }
   ],
   "source": [
    "X_train.head(10)"
   ]
  },
  {
   "cell_type": "code",
   "execution_count": 43,
   "metadata": {
    "colab": {
     "base_uri": "https://localhost:8080/"
    },
    "id": "7C_3CPw-1bsB",
    "outputId": "74f39b74-845b-419f-bf25-61931180cdbc"
   },
   "outputs": [],
   "source": [
    "y_train = X_train[\"left\"]"
   ]
  },
  {
   "cell_type": "code",
   "execution_count": 44,
   "metadata": {},
   "outputs": [
    {
     "data": {
      "text/plain": [
       "0       1\n",
       "1       0\n",
       "2       0\n",
       "3       1\n",
       "4       0\n",
       "       ..\n",
       "7495    1\n",
       "7496    1\n",
       "7497    0\n",
       "7498    1\n",
       "7499    1\n",
       "Name: left, Length: 7500, dtype: object"
      ]
     },
     "execution_count": 44,
     "metadata": {},
     "output_type": "execute_result"
    }
   ],
   "source": [
    "y_train"
   ]
  },
  {
   "cell_type": "code",
   "execution_count": 45,
   "metadata": {
    "id": "ZZNBaPGIb4s-"
   },
   "outputs": [],
   "source": [
    "X_train = X_train.drop('HireDate',axis=1)\n",
    "X_test = X_test.drop('HireDate',axis=1)"
   ]
  },
  {
   "cell_type": "code",
   "execution_count": 46,
   "metadata": {},
   "outputs": [],
   "source": [
    "X_train = X_train.drop('left',axis=1)\n",
    "X_train = X_train.drop('cluster',axis=1)"
   ]
  },
  {
   "cell_type": "code",
   "execution_count": 47,
   "metadata": {},
   "outputs": [],
   "source": [
    "X_train = X_train.drop('ClusterLabel',axis=1)"
   ]
  },
  {
   "cell_type": "code",
   "execution_count": 48,
   "metadata": {},
   "outputs": [
    {
     "data": {
      "text/html": [
       "<div>\n",
       "<style scoped>\n",
       "    .dataframe tbody tr th:only-of-type {\n",
       "        vertical-align: middle;\n",
       "    }\n",
       "\n",
       "    .dataframe tbody tr th {\n",
       "        vertical-align: top;\n",
       "    }\n",
       "\n",
       "    .dataframe thead th {\n",
       "        text-align: right;\n",
       "    }\n",
       "</style>\n",
       "<table border=\"1\" class=\"dataframe\">\n",
       "  <thead>\n",
       "    <tr style=\"text-align: right;\">\n",
       "      <th></th>\n",
       "      <th>Gender</th>\n",
       "      <th>Distance</th>\n",
       "      <th>YearsWorked</th>\n",
       "      <th>PreviousSalary</th>\n",
       "      <th>Salary</th>\n",
       "      <th>DepartmentCode</th>\n",
       "    </tr>\n",
       "  </thead>\n",
       "  <tbody>\n",
       "    <tr>\n",
       "      <th>0</th>\n",
       "      <td>0</td>\n",
       "      <td>20</td>\n",
       "      <td>8</td>\n",
       "      <td>63000</td>\n",
       "      <td>66000</td>\n",
       "      <td>3</td>\n",
       "    </tr>\n",
       "    <tr>\n",
       "      <th>1</th>\n",
       "      <td>0</td>\n",
       "      <td>30</td>\n",
       "      <td>7</td>\n",
       "      <td>60000</td>\n",
       "      <td>63000</td>\n",
       "      <td>3</td>\n",
       "    </tr>\n",
       "    <tr>\n",
       "      <th>2</th>\n",
       "      <td>0</td>\n",
       "      <td>15</td>\n",
       "      <td>7</td>\n",
       "      <td>59000</td>\n",
       "      <td>60000</td>\n",
       "      <td>3</td>\n",
       "    </tr>\n",
       "    <tr>\n",
       "      <th>3</th>\n",
       "      <td>1</td>\n",
       "      <td>5</td>\n",
       "      <td>3</td>\n",
       "      <td>60000</td>\n",
       "      <td>61000</td>\n",
       "      <td>2</td>\n",
       "    </tr>\n",
       "    <tr>\n",
       "      <th>4</th>\n",
       "      <td>1</td>\n",
       "      <td>10</td>\n",
       "      <td>9</td>\n",
       "      <td>56000</td>\n",
       "      <td>57000</td>\n",
       "      <td>7</td>\n",
       "    </tr>\n",
       "    <tr>\n",
       "      <th>...</th>\n",
       "      <td>...</td>\n",
       "      <td>...</td>\n",
       "      <td>...</td>\n",
       "      <td>...</td>\n",
       "      <td>...</td>\n",
       "      <td>...</td>\n",
       "    </tr>\n",
       "    <tr>\n",
       "      <th>7495</th>\n",
       "      <td>0</td>\n",
       "      <td>30</td>\n",
       "      <td>5</td>\n",
       "      <td>60000</td>\n",
       "      <td>62000</td>\n",
       "      <td>6</td>\n",
       "    </tr>\n",
       "    <tr>\n",
       "      <th>7496</th>\n",
       "      <td>0</td>\n",
       "      <td>10</td>\n",
       "      <td>7</td>\n",
       "      <td>64000</td>\n",
       "      <td>68000</td>\n",
       "      <td>3</td>\n",
       "    </tr>\n",
       "    <tr>\n",
       "      <th>7497</th>\n",
       "      <td>0</td>\n",
       "      <td>10</td>\n",
       "      <td>8</td>\n",
       "      <td>56000</td>\n",
       "      <td>57000</td>\n",
       "      <td>2</td>\n",
       "    </tr>\n",
       "    <tr>\n",
       "      <th>7498</th>\n",
       "      <td>0</td>\n",
       "      <td>20</td>\n",
       "      <td>6</td>\n",
       "      <td>60000</td>\n",
       "      <td>62000</td>\n",
       "      <td>5</td>\n",
       "    </tr>\n",
       "    <tr>\n",
       "      <th>7499</th>\n",
       "      <td>0</td>\n",
       "      <td>20</td>\n",
       "      <td>5</td>\n",
       "      <td>57000</td>\n",
       "      <td>58000</td>\n",
       "      <td>7</td>\n",
       "    </tr>\n",
       "  </tbody>\n",
       "</table>\n",
       "<p>7500 rows × 6 columns</p>\n",
       "</div>"
      ],
      "text/plain": [
       "      Gender  Distance  YearsWorked  PreviousSalary  Salary  DepartmentCode\n",
       "0          0        20            8           63000   66000               3\n",
       "1          0        30            7           60000   63000               3\n",
       "2          0        15            7           59000   60000               3\n",
       "3          1         5            3           60000   61000               2\n",
       "4          1        10            9           56000   57000               7\n",
       "...      ...       ...          ...             ...     ...             ...\n",
       "7495       0        30            5           60000   62000               6\n",
       "7496       0        10            7           64000   68000               3\n",
       "7497       0        10            8           56000   57000               2\n",
       "7498       0        20            6           60000   62000               5\n",
       "7499       0        20            5           57000   58000               7\n",
       "\n",
       "[7500 rows x 6 columns]"
      ]
     },
     "execution_count": 48,
     "metadata": {},
     "output_type": "execute_result"
    }
   ],
   "source": [
    "X_train"
   ]
  },
  {
   "cell_type": "code",
   "execution_count": 49,
   "metadata": {},
   "outputs": [
    {
     "data": {
      "text/html": [
       "<div>\n",
       "<style scoped>\n",
       "    .dataframe tbody tr th:only-of-type {\n",
       "        vertical-align: middle;\n",
       "    }\n",
       "\n",
       "    .dataframe tbody tr th {\n",
       "        vertical-align: top;\n",
       "    }\n",
       "\n",
       "    .dataframe thead th {\n",
       "        text-align: right;\n",
       "    }\n",
       "</style>\n",
       "<table border=\"1\" class=\"dataframe\">\n",
       "  <thead>\n",
       "    <tr style=\"text-align: right;\">\n",
       "      <th></th>\n",
       "      <th>Gender</th>\n",
       "      <th>Distance</th>\n",
       "      <th>YearsWorked</th>\n",
       "      <th>PreviousSalary</th>\n",
       "      <th>Salary</th>\n",
       "      <th>DepartmentCode</th>\n",
       "    </tr>\n",
       "  </thead>\n",
       "  <tbody>\n",
       "    <tr>\n",
       "      <th>count</th>\n",
       "      <td>7500.000000</td>\n",
       "      <td>7500.000000</td>\n",
       "      <td>7500.000000</td>\n",
       "      <td>7500.000000</td>\n",
       "      <td>7500.000000</td>\n",
       "      <td>7500.00000</td>\n",
       "    </tr>\n",
       "    <tr>\n",
       "      <th>mean</th>\n",
       "      <td>0.404133</td>\n",
       "      <td>15.074000</td>\n",
       "      <td>7.013067</td>\n",
       "      <td>59517.066667</td>\n",
       "      <td>61330.933333</td>\n",
       "      <td>3.99360</td>\n",
       "    </tr>\n",
       "    <tr>\n",
       "      <th>std</th>\n",
       "      <td>0.490756</td>\n",
       "      <td>6.730322</td>\n",
       "      <td>1.865840</td>\n",
       "      <td>3049.199088</td>\n",
       "      <td>3228.395804</td>\n",
       "      <td>2.15822</td>\n",
       "    </tr>\n",
       "    <tr>\n",
       "      <th>min</th>\n",
       "      <td>0.000000</td>\n",
       "      <td>5.000000</td>\n",
       "      <td>1.000000</td>\n",
       "      <td>48000.000000</td>\n",
       "      <td>48000.000000</td>\n",
       "      <td>1.00000</td>\n",
       "    </tr>\n",
       "    <tr>\n",
       "      <th>25%</th>\n",
       "      <td>0.000000</td>\n",
       "      <td>10.000000</td>\n",
       "      <td>6.000000</td>\n",
       "      <td>58000.000000</td>\n",
       "      <td>59000.000000</td>\n",
       "      <td>2.00000</td>\n",
       "    </tr>\n",
       "    <tr>\n",
       "      <th>50%</th>\n",
       "      <td>0.000000</td>\n",
       "      <td>15.000000</td>\n",
       "      <td>7.000000</td>\n",
       "      <td>60000.000000</td>\n",
       "      <td>61000.000000</td>\n",
       "      <td>3.00000</td>\n",
       "    </tr>\n",
       "    <tr>\n",
       "      <th>75%</th>\n",
       "      <td>1.000000</td>\n",
       "      <td>20.000000</td>\n",
       "      <td>8.000000</td>\n",
       "      <td>62000.000000</td>\n",
       "      <td>64000.000000</td>\n",
       "      <td>6.00000</td>\n",
       "    </tr>\n",
       "    <tr>\n",
       "      <th>max</th>\n",
       "      <td>1.000000</td>\n",
       "      <td>30.000000</td>\n",
       "      <td>14.000000</td>\n",
       "      <td>69000.000000</td>\n",
       "      <td>72000.000000</td>\n",
       "      <td>7.00000</td>\n",
       "    </tr>\n",
       "  </tbody>\n",
       "</table>\n",
       "</div>"
      ],
      "text/plain": [
       "            Gender     Distance  YearsWorked  PreviousSalary        Salary  \\\n",
       "count  7500.000000  7500.000000  7500.000000     7500.000000   7500.000000   \n",
       "mean      0.404133    15.074000     7.013067    59517.066667  61330.933333   \n",
       "std       0.490756     6.730322     1.865840     3049.199088   3228.395804   \n",
       "min       0.000000     5.000000     1.000000    48000.000000  48000.000000   \n",
       "25%       0.000000    10.000000     6.000000    58000.000000  59000.000000   \n",
       "50%       0.000000    15.000000     7.000000    60000.000000  61000.000000   \n",
       "75%       1.000000    20.000000     8.000000    62000.000000  64000.000000   \n",
       "max       1.000000    30.000000    14.000000    69000.000000  72000.000000   \n",
       "\n",
       "       DepartmentCode  \n",
       "count      7500.00000  \n",
       "mean          3.99360  \n",
       "std           2.15822  \n",
       "min           1.00000  \n",
       "25%           2.00000  \n",
       "50%           3.00000  \n",
       "75%           6.00000  \n",
       "max           7.00000  "
      ]
     },
     "execution_count": 49,
     "metadata": {},
     "output_type": "execute_result"
    }
   ],
   "source": [
    "X_train.describe()"
   ]
  },
  {
   "cell_type": "code",
   "execution_count": 50,
   "metadata": {},
   "outputs": [
    {
     "data": {
      "text/html": [
       "<div>\n",
       "<style scoped>\n",
       "    .dataframe tbody tr th:only-of-type {\n",
       "        vertical-align: middle;\n",
       "    }\n",
       "\n",
       "    .dataframe tbody tr th {\n",
       "        vertical-align: top;\n",
       "    }\n",
       "\n",
       "    .dataframe thead th {\n",
       "        text-align: right;\n",
       "    }\n",
       "</style>\n",
       "<table border=\"1\" class=\"dataframe\">\n",
       "  <thead>\n",
       "    <tr style=\"text-align: right;\">\n",
       "      <th></th>\n",
       "      <th>Gender</th>\n",
       "      <th>Distance</th>\n",
       "      <th>YearsWorked</th>\n",
       "      <th>PreviousSalary</th>\n",
       "      <th>Salary</th>\n",
       "      <th>DepartmentCode</th>\n",
       "    </tr>\n",
       "  </thead>\n",
       "  <tbody>\n",
       "    <tr>\n",
       "      <th>count</th>\n",
       "      <td>2500.000000</td>\n",
       "      <td>2500.000000</td>\n",
       "      <td>2500.000000</td>\n",
       "      <td>2500.000000</td>\n",
       "      <td>2500.000000</td>\n",
       "      <td>2500.000000</td>\n",
       "    </tr>\n",
       "    <tr>\n",
       "      <th>mean</th>\n",
       "      <td>0.404800</td>\n",
       "      <td>15.092000</td>\n",
       "      <td>7.023200</td>\n",
       "      <td>59358.000000</td>\n",
       "      <td>61172.000000</td>\n",
       "      <td>3.985200</td>\n",
       "    </tr>\n",
       "    <tr>\n",
       "      <th>std</th>\n",
       "      <td>0.490951</td>\n",
       "      <td>6.757944</td>\n",
       "      <td>1.881297</td>\n",
       "      <td>2997.704204</td>\n",
       "      <td>3152.521428</td>\n",
       "      <td>2.133823</td>\n",
       "    </tr>\n",
       "    <tr>\n",
       "      <th>min</th>\n",
       "      <td>0.000000</td>\n",
       "      <td>5.000000</td>\n",
       "      <td>1.000000</td>\n",
       "      <td>49000.000000</td>\n",
       "      <td>50000.000000</td>\n",
       "      <td>1.000000</td>\n",
       "    </tr>\n",
       "    <tr>\n",
       "      <th>25%</th>\n",
       "      <td>0.000000</td>\n",
       "      <td>10.000000</td>\n",
       "      <td>6.000000</td>\n",
       "      <td>57000.000000</td>\n",
       "      <td>59000.000000</td>\n",
       "      <td>2.000000</td>\n",
       "    </tr>\n",
       "    <tr>\n",
       "      <th>50%</th>\n",
       "      <td>0.000000</td>\n",
       "      <td>15.000000</td>\n",
       "      <td>7.000000</td>\n",
       "      <td>59000.000000</td>\n",
       "      <td>61000.000000</td>\n",
       "      <td>3.000000</td>\n",
       "    </tr>\n",
       "    <tr>\n",
       "      <th>75%</th>\n",
       "      <td>1.000000</td>\n",
       "      <td>20.000000</td>\n",
       "      <td>8.000000</td>\n",
       "      <td>61000.000000</td>\n",
       "      <td>63000.000000</td>\n",
       "      <td>6.000000</td>\n",
       "    </tr>\n",
       "    <tr>\n",
       "      <th>max</th>\n",
       "      <td>1.000000</td>\n",
       "      <td>30.000000</td>\n",
       "      <td>13.000000</td>\n",
       "      <td>69000.000000</td>\n",
       "      <td>72000.000000</td>\n",
       "      <td>7.000000</td>\n",
       "    </tr>\n",
       "  </tbody>\n",
       "</table>\n",
       "</div>"
      ],
      "text/plain": [
       "            Gender     Distance  YearsWorked  PreviousSalary        Salary  \\\n",
       "count  2500.000000  2500.000000  2500.000000     2500.000000   2500.000000   \n",
       "mean      0.404800    15.092000     7.023200    59358.000000  61172.000000   \n",
       "std       0.490951     6.757944     1.881297     2997.704204   3152.521428   \n",
       "min       0.000000     5.000000     1.000000    49000.000000  50000.000000   \n",
       "25%       0.000000    10.000000     6.000000    57000.000000  59000.000000   \n",
       "50%       0.000000    15.000000     7.000000    59000.000000  61000.000000   \n",
       "75%       1.000000    20.000000     8.000000    61000.000000  63000.000000   \n",
       "max       1.000000    30.000000    13.000000    69000.000000  72000.000000   \n",
       "\n",
       "       DepartmentCode  \n",
       "count     2500.000000  \n",
       "mean         3.985200  \n",
       "std          2.133823  \n",
       "min          1.000000  \n",
       "25%          2.000000  \n",
       "50%          3.000000  \n",
       "75%          6.000000  \n",
       "max          7.000000  "
      ]
     },
     "execution_count": 50,
     "metadata": {},
     "output_type": "execute_result"
    }
   ],
   "source": [
    "X_test.describe()"
   ]
  },
  {
   "cell_type": "markdown",
   "metadata": {
    "id": "escnLIaccsEA"
   },
   "source": [
    "# Modelling\n"
   ]
  },
  {
   "cell_type": "markdown",
   "metadata": {},
   "source": [
    "## Logistic Regression"
   ]
  },
  {
   "cell_type": "code",
   "execution_count": 51,
   "metadata": {
    "colab": {
     "base_uri": "https://localhost:8080/"
    },
    "id": "_6Bd8wPptyy4",
    "outputId": "6370222f-3205-48b8-b62a-0614f82154e6"
   },
   "outputs": [
    {
     "name": "stdout",
     "output_type": "stream",
     "text": [
      "Accuracy: 0.5268\n"
     ]
    }
   ],
   "source": [
    "import numpy as np\n",
    "from sklearn.tree import DecisionTreeClassifier\n",
    "from sklearn.ensemble import RandomForestClassifier\n",
    "from sklearn.linear_model import LogisticRegression\n",
    "from sklearn.metrics import accuracy_score\n",
    "from sklearn.preprocessing import StandardScaler\n",
    "from sklearn.decomposition import PCA\n",
    "from sklearn.pipeline import Pipeline\n",
    "from sklearn.model_selection import GridSearchCV\n",
    "\n",
    "# Standardize the data\n",
    "scaler = StandardScaler()\n",
    "X_train_scaled = scaler.fit_transform(X_train)\n",
    "X_test_scaled = scaler.transform(X_test)\n",
    "\n",
    "# Convert y_train to a 1-dimensional array\n",
    "y_train = y_train.ravel()\n",
    "\n",
    "# Define the pipeline\n",
    "pipeline = Pipeline([\n",
    "    ('scaler', StandardScaler()),\n",
    "    ('pca', PCA()),  # Let's allow PCA to choose the optimal number of components\n",
    "    ('logistic_regression', LogisticRegression(max_iter=1000))\n",
    "])\n",
    "\n",
    "# Define the hyperparameters to tune\n",
    "parameters = {\n",
    "    'pca__n_components': [2,4,6],  # Limiting the range of n_components\n",
    "    'logistic_regression__C': [0.1, 1, 10]\n",
    "}\n",
    "\n",
    "# Perform grid search cross-validation\n",
    "grid_search = GridSearchCV(pipeline, parameters, cv=5, scoring='accuracy')\n",
    "grid_search.fit(X_train_scaled, y_train)\n",
    "\n",
    "# Get the best model from the grid search\n",
    "best_model = grid_search.best_estimator_\n",
    "\n",
    "# Make predictions on the test set\n",
    "y_pred = best_model.predict(X_test_scaled)\n",
    "\n",
    "y_pred_int = y_pred.astype(int)\n",
    "\n",
    "# Compute accuracy score\n",
    "accuracy = accuracy_score(y_test, y_pred_int)\n",
    "print(\"Accuracy:\", accuracy)\n"
   ]
  },
  {
   "cell_type": "markdown",
   "metadata": {},
   "source": [
    "## Decision Tree"
   ]
  },
  {
   "cell_type": "code",
   "execution_count": 52,
   "metadata": {
    "colab": {
     "base_uri": "https://localhost:8080/"
    },
    "id": "qj6cnHYC-acb",
    "outputId": "faa76900-b782-46e1-b33f-e79ae7d33ed4"
   },
   "outputs": [
    {
     "name": "stdout",
     "output_type": "stream",
     "text": [
      "Best Parameters for Decision Tree:\n",
      "{'decision_tree__max_depth': 20, 'pca__n_components': 6}\n",
      "Accuracy for Decision Tree: 0.5268\n"
     ]
    }
   ],
   "source": [
    "from sklearn.tree import DecisionTreeClassifier\n",
    "from sklearn.ensemble import RandomForestClassifier\n",
    "from sklearn.metrics import accuracy_score\n",
    "from sklearn.preprocessing import StandardScaler\n",
    "from sklearn.decomposition import PCA\n",
    "from sklearn.pipeline import Pipeline\n",
    "from sklearn.model_selection import GridSearchCV\n",
    "\n",
    "# Scaling the features\n",
    "scaler = StandardScaler()\n",
    "X_train_scaled = scaler.fit_transform(X_train)\n",
    "X_test_scaled = scaler.transform(X_test)\n",
    "\n",
    "# Reshaping y_train using ravel()\n",
    "y_train = y_train.ravel()\n",
    "\n",
    "# Define PCA\n",
    "pca = PCA()\n",
    "\n",
    "# Define Decision Tree\n",
    "decision_tree = DecisionTreeClassifier()\n",
    "\n",
    "# Define pipeline for Decision Tree\n",
    "pipeline_dt = Pipeline([\n",
    "    ('scaler', StandardScaler()),\n",
    "    ('pca', PCA()),\n",
    "    ('decision_tree', DecisionTreeClassifier())\n",
    "])\n",
    "\n",
    "# Define parameter grid for Decision Tree\n",
    "param_grid_dt = {\n",
    "    'pca__n_components': [2, 3, 4, 5, 6],  # Number of PCA components\n",
    "    'decision_tree__max_depth': [None, 5, 10, 20],  # Max depth of the tree\n",
    "}\n",
    "\n",
    "# Perform GridSearchCV for Decision Tree\n",
    "grid_search_dt = GridSearchCV(pipeline_dt, param_grid_dt, cv=5, scoring='accuracy')\n",
    "grid_search_dt.fit(X_train_scaled, y_train)\n",
    "\n",
    "# Get the best parameters for Decision Tree\n",
    "best_params_dt = grid_search_dt.best_params_\n",
    "\n",
    "# Print the best parameters for Decision Tree\n",
    "print(\"Best Parameters for Decision Tree:\")\n",
    "print(best_params_dt)\n",
    "\n",
    "# Get the best model for Decision Tree\n",
    "best_model_dt = grid_search_dt.best_estimator_\n",
    "\n",
    "# Evaluate the best model for Decision Tree\n",
    "y_pred_dt = best_model_dt.predict(X_test_scaled)\n",
    "\n",
    "y_pred_int = y_pred.astype(int)\n",
    "accuracy_dt = accuracy_score(y_test, y_pred_int)\n",
    "print(\"Accuracy for Decision Tree:\", accuracy_dt)\n"
   ]
  },
  {
   "cell_type": "markdown",
   "metadata": {},
   "source": [
    "## Random Forest"
   ]
  },
  {
   "cell_type": "code",
   "execution_count": 53,
   "metadata": {
    "colab": {
     "base_uri": "https://localhost:8080/"
    },
    "id": "9fJomz8eCsbB",
    "outputId": "ee6f5273-3119-4ba4-fe50-6bf37d2a349a"
   },
   "outputs": [
    {
     "name": "stdout",
     "output_type": "stream",
     "text": [
      "\n",
      "Best Parameters for Random Forest:\n",
      "{'pca__n_components': 5, 'random_forest__max_depth': None, 'random_forest__n_estimators': 50}\n",
      "Accuracy for Random Forest: 0.5312\n"
     ]
    }
   ],
   "source": [
    "from sklearn.tree import DecisionTreeClassifier\n",
    "from sklearn.ensemble import RandomForestClassifier\n",
    "from sklearn.metrics import accuracy_score\n",
    "from sklearn.preprocessing import StandardScaler\n",
    "from sklearn.decomposition import PCA\n",
    "from sklearn.pipeline import Pipeline\n",
    "from sklearn.model_selection import GridSearchCV\n",
    "\n",
    "# Scaling the features\n",
    "scaler = StandardScaler()\n",
    "X_train_scaled = scaler.fit_transform(X_train)\n",
    "X_test_scaled = scaler.transform(X_test)\n",
    "\n",
    "# Reshaping y_train using ravel()\n",
    "y_train = y_train.ravel()\n",
    "\n",
    "# Define PCA\n",
    "pca = PCA()\n",
    "\n",
    "# Define Random Forest\n",
    "random_forest = RandomForestClassifier()\n",
    "\n",
    "# Define pipeline for Random Forest\n",
    "pipeline_rf = Pipeline([\n",
    "    ('scaler', StandardScaler()),\n",
    "    ('pca', PCA()),\n",
    "    ('random_forest', RandomForestClassifier())\n",
    "])\n",
    "\n",
    "# Define parameter grid for Random Forest\n",
    "param_grid_rf = {\n",
    "    'pca__n_components': [2, 3, 4, 5, 6],  # Number of PCA components\n",
    "    'random_forest__n_estimators': [50, 100],  # Number of trees in the forest\n",
    "    'random_forest__max_depth': [None, 5, 10],  # Max depth of the trees\n",
    "}\n",
    "\n",
    "# Perform GridSearchCV for Random Forest\n",
    "grid_search_rf = GridSearchCV(pipeline_rf, param_grid_rf, cv=5, scoring='accuracy')\n",
    "grid_search_rf.fit(X_train_scaled, y_train)\n",
    "\n",
    "# Get the best parameters for Random Forest\n",
    "best_params_rf = grid_search_rf.best_params_\n",
    "\n",
    "# Print the best parameters for Random Forest\n",
    "print(\"\\nBest Parameters for Random Forest:\")\n",
    "print(best_params_rf)\n",
    "\n",
    "# Get the best model for Random Forest\n",
    "best_model_rf = grid_search_rf.best_estimator_\n",
    "\n",
    "# Evaluate the best model for Random Forest\n",
    "y_pred_rf = best_model_rf.predict(X_test_scaled)\n",
    "y_pred_int = y_pred_rf.astype(int)\n",
    "accuracy_rf = accuracy_score(y_test, y_pred_int)\n",
    "print(\"Accuracy for Random Forest:\", accuracy_rf)\n"
   ]
  },
  {
   "cell_type": "markdown",
   "metadata": {},
   "source": [
    "## Conclusion:"
   ]
  },
  {
   "cell_type": "markdown",
   "metadata": {},
   "source": [
    "Among these three models. I have observed that Random Forest has highest accuracy when compared to other models and with this I have predicted the amount of data with the unsupervised learning and we have figured it out that Random forest was the best model which gives us a good score and principal component analysis (PCA) was utilized to decrease the dimensionality of the feature space and identify the most significant components that account for the majority of the data variation.\n",
    "\n",
    "Logistic regression, decision trees, and random forests are the three machine learning models that we used. By streamlining the data preprocessing, PCA transformation, and model training/evaluation processes into a single workflow, a pipeline technique was used to train and assess these models.\n",
    "\n",
    "It tells about how we can solve the real world problems and I have learned a lot using this approach."
   ]
  }
 ],
 "metadata": {
  "accelerator": "GPU",
  "colab": {
   "gpuType": "T4",
   "provenance": []
  },
  "kernelspec": {
   "display_name": "Python 3 (ipykernel)",
   "language": "python",
   "name": "python3"
  },
  "language_info": {
   "codemirror_mode": {
    "name": "ipython",
    "version": 3
   },
   "file_extension": ".py",
   "mimetype": "text/x-python",
   "name": "python",
   "nbconvert_exporter": "python",
   "pygments_lexer": "ipython3",
   "version": "3.11.5"
  }
 },
 "nbformat": 4,
 "nbformat_minor": 1
}
